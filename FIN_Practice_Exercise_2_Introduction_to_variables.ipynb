{
  "cells": [
    {
      "cell_type": "markdown",
      "metadata": {
        "id": "view-in-github",
        "colab_type": "text"
      },
      "source": [
        "<a href=\"https://colab.research.google.com/github/murdadrum/MIT-DSML/blob/main/FIN_Practice_Exercise_2_Introduction_to_variables.ipynb\" target=\"_parent\"><img src=\"https://colab.research.google.com/assets/colab-badge.svg\" alt=\"Open In Colab\"/></a>"
      ]
    },
    {
      "cell_type": "markdown",
      "metadata": {
        "id": "K4vytt30W8Rm"
      },
      "source": [
        "# **INTRO TO VARIABLE EXERCISE**"
      ]
    },
    {
      "cell_type": "markdown",
      "metadata": {
        "id": "v9q6_xvlW8Rq"
      },
      "source": [
        "### 1. What will be the type of the *add* variable?\n",
        "a = 10\n",
        "\n",
        "b = 5.1\n",
        "\n",
        "add = a + b"
      ]
    },
    {
      "cell_type": "code",
      "execution_count": null,
      "metadata": {
        "colab": {
          "base_uri": "https://localhost:8080/"
        },
        "id": "161qBHQtW8Rr",
        "outputId": "176093f9-7205-4c59-8b79-d6a178128490"
      },
      "outputs": [
        {
          "output_type": "stream",
          "name": "stdout",
          "text": [
            "15.1\n"
          ]
        },
        {
          "output_type": "execute_result",
          "data": {
            "text/plain": [
              "float"
            ]
          },
          "metadata": {},
          "execution_count": 5
        }
      ],
      "source": [
        "a = 10\n",
        "\n",
        "b = 5.1\n",
        "\n",
        "add = a + b\n",
        "print(a + b)\n",
        "type(a + b)"
      ]
    },
    {
      "cell_type": "markdown",
      "metadata": {
        "id": "MSYbqgQlW8Rr"
      },
      "source": [
        "### 2. Is 5 == (3+2)?"
      ]
    },
    {
      "cell_type": "code",
      "execution_count": null,
      "metadata": {
        "colab": {
          "base_uri": "https://localhost:8080/"
        },
        "id": "B_BVTH80W8Rs",
        "outputId": "14163cf9-d741-40fc-a4ba-24f78e6940bf"
      },
      "outputs": [
        {
          "output_type": "stream",
          "name": "stdout",
          "text": [
            "Yes\n"
          ]
        }
      ],
      "source": [
        "if 5 == (3+2):\n",
        "  print(\"Yes\")"
      ]
    },
    {
      "cell_type": "markdown",
      "metadata": {
        "id": "wuXQjq7QW8Rs"
      },
      "source": [
        "### 3. Add 33 in variable *a* and print the result\n",
        "\n",
        "a = 3"
      ]
    },
    {
      "cell_type": "code",
      "execution_count": null,
      "metadata": {
        "colab": {
          "base_uri": "https://localhost:8080/"
        },
        "id": "ktEskFZ_W8Rs",
        "outputId": "16aba050-5eeb-481d-86cc-a8eee062e577"
      },
      "outputs": [
        {
          "output_type": "stream",
          "name": "stdout",
          "text": [
            "36\n"
          ]
        }
      ],
      "source": [
        "a = 3\n",
        "b = 33\n",
        "a = (a +b)\n",
        "print(a)"
      ]
    },
    {
      "cell_type": "markdown",
      "metadata": {
        "id": "zyakBp10W8Rt"
      },
      "source": [
        "### 4. Convert integer variable *a* to float and check its type\n",
        "\n",
        "a = 3"
      ]
    },
    {
      "cell_type": "code",
      "execution_count": null,
      "metadata": {
        "colab": {
          "base_uri": "https://localhost:8080/"
        },
        "id": "2HhIZ8UbW8Rt",
        "outputId": "f9cddbbd-a9d2-43ae-a26a-dae0602a5e73"
      },
      "outputs": [
        {
          "output_type": "execute_result",
          "data": {
            "text/plain": [
              "float"
            ]
          },
          "metadata": {},
          "execution_count": 15
        }
      ],
      "source": [
        "a = 3\n",
        "a = float(a)\n",
        "type(a)\n",
        "# a"
      ]
    },
    {
      "cell_type": "markdown",
      "metadata": {
        "id": "7IWsOqOoW8Rt"
      },
      "source": [
        "### 5. What will be 5 times *a* if the value of a is 10?"
      ]
    },
    {
      "cell_type": "code",
      "execution_count": null,
      "metadata": {
        "colab": {
          "base_uri": "https://localhost:8080/"
        },
        "id": "cQ1vK0prW8Ru",
        "outputId": "6be2fac6-c476-4aa2-a37a-182310506e9f"
      },
      "outputs": [
        {
          "output_type": "execute_result",
          "data": {
            "text/plain": [
              "50"
            ]
          },
          "metadata": {},
          "execution_count": 17
        }
      ],
      "source": [
        "a = 10\n",
        "value = a * 5\n",
        "value"
      ]
    },
    {
      "cell_type": "markdown",
      "metadata": {
        "id": "UzxcJUCRW8Ru"
      },
      "source": [
        "### 6. Write a program to calculate the area of a triangle with base = 10 and height = 5\n",
        "\n",
        "Hint : area of triangle = 1/2 * base * height"
      ]
    },
    {
      "cell_type": "code",
      "execution_count": null,
      "metadata": {
        "colab": {
          "base_uri": "https://localhost:8080/"
        },
        "id": "lxIqQPTQW8Ru",
        "outputId": "ceac96a1-fab8-4e58-d9f8-d60bfe7ad5d3"
      },
      "outputs": [
        {
          "output_type": "execute_result",
          "data": {
            "text/plain": [
              "25.0"
            ]
          },
          "metadata": {},
          "execution_count": 19
        }
      ],
      "source": [
        "b = 10\n",
        "h = 5\n",
        "a = .5 * (b * h)\n",
        "a"
      ]
    },
    {
      "cell_type": "markdown",
      "metadata": {
        "id": "PDXwUMXNW8Ru"
      },
      "source": [
        "### 7. What will be the value of *z* in the following expression:\n",
        "\n",
        "z = (v + w) * (x / y)\n",
        "\n",
        "If\n",
        "\n",
        "v = 10\n",
        "\n",
        "w = 25\n",
        "\n",
        "x = 70\n",
        "\n",
        "y = 2"
      ]
    },
    {
      "cell_type": "code",
      "execution_count": null,
      "metadata": {
        "colab": {
          "base_uri": "https://localhost:8080/"
        },
        "id": "tusR3l3MW8Rv",
        "outputId": "02bbe0a4-0bf4-46d7-81ba-d006317013b3"
      },
      "outputs": [
        {
          "output_type": "execute_result",
          "data": {
            "text/plain": [
              "1225.0"
            ]
          },
          "metadata": {},
          "execution_count": 21
        }
      ],
      "source": [
        "v = 10\n",
        "\n",
        "w = 25\n",
        "\n",
        "x = 70\n",
        "\n",
        "y = 2\n",
        "\n",
        "z = (v + w) * (x / y)\n",
        "z"
      ]
    },
    {
      "cell_type": "markdown",
      "metadata": {
        "id": "MTEC9QlrW8Rv"
      },
      "source": [
        "### 8. Swap values of *a* and *b*\n",
        "If before swapping a = 10 and b = 5\n",
        "\n",
        "Then after swapping a = 5 and b = 10\n",
        "##### Values can not be hardcoded"
      ]
    },
    {
      "cell_type": "code",
      "execution_count": null,
      "metadata": {
        "colab": {
          "base_uri": "https://localhost:8080/"
        },
        "id": "OKca-bwVW8Rv",
        "outputId": "def97a0f-54a4-47cb-dfe6-f359b781425e"
      },
      "outputs": [
        {
          "output_type": "stream",
          "name": "stdout",
          "text": [
            "a is 10 b is 5\n",
            "a is 5 b is 10\n"
          ]
        }
      ],
      "source": [
        "a = 10\n",
        "b = 5\n",
        "print('a is', a, 'b is', b)\n",
        "temp = a\n",
        "a = b\n",
        "b = temp\n",
        "print('a is', a, 'b is', b)"
      ]
    },
    {
      "cell_type": "markdown",
      "metadata": {
        "id": "UYQn6cYTW8Rv"
      },
      "source": [
        "### 9. Convert 35 degree Celsius temperature to Fahrenheit"
      ]
    },
    {
      "cell_type": "code",
      "execution_count": null,
      "metadata": {
        "colab": {
          "base_uri": "https://localhost:8080/"
        },
        "id": "ja48U8-9W8Rv",
        "outputId": "042ef33e-8c7a-40d0-c3eb-9cd12030c903"
      },
      "outputs": [
        {
          "output_type": "execute_result",
          "data": {
            "text/plain": [
              "95.0"
            ]
          },
          "metadata": {},
          "execution_count": 28
        }
      ],
      "source": [
        "C = 35\n",
        "F = (C * 9/5) + 32\n",
        "F"
      ]
    }
  ],
  "metadata": {
    "kernelspec": {
      "display_name": "Python 3 (ipykernel)",
      "language": "python",
      "name": "python3"
    },
    "language_info": {
      "codemirror_mode": {
        "name": "ipython",
        "version": 3
      },
      "file_extension": ".py",
      "mimetype": "text/x-python",
      "name": "python",
      "nbconvert_exporter": "python",
      "pygments_lexer": "ipython3",
      "version": "3.9.7"
    },
    "colab": {
      "provenance": [],
      "include_colab_link": true
    }
  },
  "nbformat": 4,
  "nbformat_minor": 0
}