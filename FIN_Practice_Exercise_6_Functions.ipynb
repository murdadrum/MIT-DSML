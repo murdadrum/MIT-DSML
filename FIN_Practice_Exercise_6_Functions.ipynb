{
  "cells": [
    {
      "cell_type": "markdown",
      "metadata": {
        "id": "view-in-github",
        "colab_type": "text"
      },
      "source": [
        "<a href=\"https://colab.research.google.com/github/murdadrum/MIT-DSML/blob/main/FIN_Practice_Exercise_6_Functions.ipynb\" target=\"_parent\"><img src=\"https://colab.research.google.com/assets/colab-badge.svg\" alt=\"Open In Colab\"/></a>"
      ]
    },
    {
      "cell_type": "markdown",
      "metadata": {
        "id": "nG_ltmePVzck"
      },
      "source": [
        "# **USER DEFINED FUNCTION AND LAMBDA FUNCTIONS EXERCISE**"
      ]
    },
    {
      "cell_type": "markdown",
      "metadata": {
        "id": "El00RtXhVzcm"
      },
      "source": [
        "### 1. Write a function to add, subtract, multiply and divide two variables passed to it and print the result"
      ]
    },
    {
      "cell_type": "code",
      "execution_count": null,
      "metadata": {
        "colab": {
          "base_uri": "https://localhost:8080/"
        },
        "id": "cCMvaQg2Vzcn",
        "outputId": "2c11e497-bef3-40b4-cc91-1c4e3e3526bc"
      },
      "outputs": [
        {
          "output_type": "stream",
          "name": "stdout",
          "text": [
            "Sum =  20\n",
            "Diff =  0\n",
            "Prod =  100\n",
            "Quo =  1.0\n"
          ]
        }
      ],
      "source": [
        "def maths(a,b):\n",
        "  print(\"Sum = \", a + b)\n",
        "  print(\"Diff = \", a - b)\n",
        "  print(\"Prod = \", a * b)\n",
        "  print(\"Quo = \", a / b)\n",
        "\n",
        "maths(10,10)"
      ]
    },
    {
      "cell_type": "markdown",
      "metadata": {
        "id": "0fQ1fRocVzcn"
      },
      "source": [
        "### 2. Write a Python function given range (1,10) both included, that gives the square of every number"
      ]
    },
    {
      "cell_type": "code",
      "execution_count": null,
      "metadata": {
        "colab": {
          "base_uri": "https://localhost:8080/"
        },
        "id": "48hR1MeyVzcn",
        "outputId": "ed202120-c043-42eb-b05f-1412f32bf0d6"
      },
      "outputs": [
        {
          "output_type": "stream",
          "name": "stdout",
          "text": [
            "1\n",
            "4\n",
            "9\n",
            "16\n",
            "25\n",
            "36\n",
            "49\n",
            "64\n",
            "81\n",
            "100\n"
          ]
        }
      ],
      "source": [
        "def sqr():\n",
        "  for i in range(1,11):\n",
        "    print(i * i)\n",
        "\n",
        "sqr()"
      ]
    },
    {
      "cell_type": "markdown",
      "metadata": {
        "id": "dGI8ira1Vzcn"
      },
      "source": [
        "### 3. Write a function to calculate simple interest\n",
        "\n",
        "simple interest = (Principal amount * Annual Rate of interest * Time(in years))/100\n",
        "\n",
        "Take values as follows\n",
        "\n",
        "Principal Amount = 1000\n",
        "\n",
        "Rate of interest = 3%\n",
        "\n",
        "Time = 5 years"
      ]
    },
    {
      "cell_type": "code",
      "execution_count": null,
      "metadata": {
        "colab": {
          "base_uri": "https://localhost:8080/"
        },
        "id": "r2xKg9AEVzco",
        "outputId": "941367bd-3ef5-4931-cd9b-ee46677cc559"
      },
      "outputs": [
        {
          "output_type": "stream",
          "name": "stdout",
          "text": [
            "150.0\n"
          ]
        }
      ],
      "source": [
        "# p = 1000\n",
        "# r = 3\n",
        "# t = 5\n",
        "\n",
        "def si():\n",
        "  print((p * r * t) / 100)\n",
        "\n",
        "si()\n"
      ]
    },
    {
      "cell_type": "code",
      "source": [
        "def simple_interest(p, r, t):\n",
        "    si = (p * r * t) / 100\n",
        "    return si\n",
        "simple_interest(1000, 3, 5)"
      ],
      "metadata": {
        "colab": {
          "base_uri": "https://localhost:8080/"
        },
        "id": "hoxFODOEZ7Gn",
        "outputId": "5b9c153c-2cf8-4376-aa15-8f299d029053"
      },
      "execution_count": null,
      "outputs": [
        {
          "output_type": "execute_result",
          "data": {
            "text/plain": [
              "150.0"
            ]
          },
          "metadata": {},
          "execution_count": 10
        }
      ]
    },
    {
      "cell_type": "markdown",
      "metadata": {
        "id": "uZSmqNgsVzco"
      },
      "source": [
        "### 4. Write a function to check the number is divisible by 25. The function should return True if divisible and \"Not divisible\" if not"
      ]
    },
    {
      "cell_type": "code",
      "execution_count": null,
      "metadata": {
        "colab": {
          "base_uri": "https://localhost:8080/",
          "height": 35
        },
        "id": "zIMZDpptVzco",
        "outputId": "17f8dd9e-9e0a-4b76-be99-9dab6e740eb1"
      },
      "outputs": [
        {
          "output_type": "execute_result",
          "data": {
            "text/plain": [
              "'True'"
            ],
            "application/vnd.google.colaboratory.intrinsic+json": {
              "type": "string"
            }
          },
          "metadata": {},
          "execution_count": 14
        }
      ],
      "source": [
        "def divchk(n):\n",
        "  if n % 25 == 0:\n",
        "    return 'True'\n",
        "  else:\n",
        "    return 'Not divisible'\n",
        "\n",
        "divchk(1000)"
      ]
    },
    {
      "cell_type": "markdown",
      "metadata": {
        "id": "pBf3N1HCVzco"
      },
      "source": [
        "### 5. Define a function that takes an input, squares it, adds 5, then returns the answer"
      ]
    },
    {
      "cell_type": "code",
      "execution_count": null,
      "metadata": {
        "colab": {
          "base_uri": "https://localhost:8080/"
        },
        "id": "AXLut90YVzco",
        "outputId": "b41b5571-6124-4f8e-e353-1d4ef5dec546"
      },
      "outputs": [
        {
          "output_type": "stream",
          "name": "stdout",
          "text": [
            "a^2 + 5 = 30\n"
          ]
        }
      ],
      "source": [
        "def eq(a):\n",
        "  y = (a * a + 5)\n",
        "  return y\n",
        "\n",
        "print('a^2 + 5 =', eq(5))"
      ]
    },
    {
      "cell_type": "code",
      "source": [
        "def x2p5(x):\n",
        "    y = x * x\n",
        "    z = y + 5\n",
        "    return z\n",
        "\n",
        "print('x^2 + 5 = ',x2p5(5))\n"
      ],
      "metadata": {
        "colab": {
          "base_uri": "https://localhost:8080/"
        },
        "id": "36DkN-19dLVg",
        "outputId": "1894618c-7eb9-4e65-bb73-f527599ffdd3"
      },
      "execution_count": null,
      "outputs": [
        {
          "output_type": "stream",
          "name": "stdout",
          "text": [
            "x^2 + 5 =  30\n"
          ]
        }
      ]
    },
    {
      "cell_type": "markdown",
      "metadata": {
        "id": "fdQdClXqVzcp"
      },
      "source": [
        "### 6. Using lambda function perform the following task : take an input, squares it, add 5, then return the answer"
      ]
    },
    {
      "cell_type": "code",
      "execution_count": null,
      "metadata": {
        "colab": {
          "base_uri": "https://localhost:8080/"
        },
        "id": "O6faw8SWVzcp",
        "outputId": "e4e9e6cd-3cd5-42b9-e9e2-159419fb71f0"
      },
      "outputs": [
        {
          "output_type": "execute_result",
          "data": {
            "text/plain": [
              "105"
            ]
          },
          "metadata": {},
          "execution_count": 28
        }
      ],
      "source": [
        "function = lambda x: x * x + 5\n",
        "function(10)"
      ]
    },
    {
      "cell_type": "markdown",
      "metadata": {
        "id": "nO63-Bb7Vzcp"
      },
      "source": [
        "### 7. Write a function to calculate the power of a number raised to other ($a^b$)"
      ]
    },
    {
      "cell_type": "code",
      "execution_count": null,
      "metadata": {
        "colab": {
          "base_uri": "https://localhost:8080/"
        },
        "id": "WffjbXMTVzcp",
        "outputId": "8c6c28d5-ec69-4303-cf6f-6ae1cd03bc7a"
      },
      "outputs": [
        {
          "output_type": "execute_result",
          "data": {
            "text/plain": [
              "1000"
            ]
          },
          "metadata": {},
          "execution_count": 29
        }
      ],
      "source": [
        "x_pwr_y = lambda x, y: x ** y\n",
        "x_pwr_y(10,3)"
      ]
    },
    {
      "cell_type": "code",
      "source": [
        "def pwr(x,y):\n",
        "  return (x ** y)\n",
        "\n",
        "pwr(10,3)"
      ],
      "metadata": {
        "colab": {
          "base_uri": "https://localhost:8080/"
        },
        "id": "vHGo-HY0efX0",
        "outputId": "00d87946-0aab-42e8-d5c5-cf1e81d63d76"
      },
      "execution_count": null,
      "outputs": [
        {
          "output_type": "execute_result",
          "data": {
            "text/plain": [
              "1000"
            ]
          },
          "metadata": {},
          "execution_count": 31
        }
      ]
    },
    {
      "cell_type": "markdown",
      "metadata": {
        "id": "xKkrTeXwVzcp"
      },
      "source": [
        "### 8. Write a function to calculate the area of a triangle\n",
        "\n",
        "area of triangle = 1/2 * base * height"
      ]
    },
    {
      "cell_type": "code",
      "execution_count": null,
      "metadata": {
        "colab": {
          "base_uri": "https://localhost:8080/"
        },
        "id": "Wb9cFZshVzcp",
        "outputId": "15a8f498-accf-4dd0-9825-24922b6ec3ae"
      },
      "outputs": [
        {
          "output_type": "execute_result",
          "data": {
            "text/plain": [
              "250.0"
            ]
          },
          "metadata": {},
          "execution_count": 43
        }
      ],
      "source": [
        "def triarea(b, h):\n",
        "  return (.5 * b * h)\n",
        "\n",
        "triarea(10,50)"
      ]
    },
    {
      "cell_type": "markdown",
      "metadata": {
        "id": "NmnhIgYAVzcp"
      },
      "source": [
        "### 9. Create a function that takes country as the input and returns \"I am from *Country* \""
      ]
    },
    {
      "cell_type": "code",
      "execution_count": null,
      "metadata": {
        "colab": {
          "base_uri": "https://localhost:8080/"
        },
        "id": "EkSypZ8zVzcp",
        "outputId": "162a130d-92bf-4050-e40c-f23df6dea73d"
      },
      "outputs": [
        {
          "output_type": "stream",
          "name": "stdout",
          "text": [
            "I am from USVI\n"
          ]
        }
      ],
      "source": [
        "def home(country):\n",
        "  print('I am from', country)\n",
        "home('USVI')"
      ]
    },
    {
      "cell_type": "code",
      "source": [
        "def greet(country):\n",
        " print(\"I am from\", country)\n",
        "greet(\"Sweden\")"
      ],
      "metadata": {
        "colab": {
          "base_uri": "https://localhost:8080/"
        },
        "id": "kWuHBPwogzxU",
        "outputId": "ca3f56df-efc8-4190-f410-b4da24cef5c5"
      },
      "execution_count": null,
      "outputs": [
        {
          "output_type": "stream",
          "name": "stdout",
          "text": [
            "I am from Sweden\n"
          ]
        }
      ]
    },
    {
      "cell_type": "markdown",
      "metadata": {
        "id": "pE8hnPetVzcq"
      },
      "source": [
        "### 10. Write a function to convert degree Celsius temperature to Fahrenheit"
      ]
    },
    {
      "cell_type": "code",
      "execution_count": null,
      "metadata": {
        "colab": {
          "base_uri": "https://localhost:8080/"
        },
        "id": "PxuP4TOOVzcq",
        "outputId": "5dfce3e6-f425-44da-c060-c7fff8d96516"
      },
      "outputs": [
        {
          "output_type": "stream",
          "name": "stdout",
          "text": [
            "Temp in degrees Fahrenheit is 95.0\n"
          ]
        }
      ],
      "source": [
        "def Celsius(a):\n",
        "  print('Temperature in degrees Fahrenheit is', a * 9/5 + 32)\n",
        "\n",
        "Celsius(35)"
      ]
    }
  ],
  "metadata": {
    "kernelspec": {
      "display_name": "Python 3 (ipykernel)",
      "language": "python",
      "name": "python3"
    },
    "language_info": {
      "codemirror_mode": {
        "name": "ipython",
        "version": 3
      },
      "file_extension": ".py",
      "mimetype": "text/x-python",
      "name": "python",
      "nbconvert_exporter": "python",
      "pygments_lexer": "ipython3",
      "version": "3.9.7"
    },
    "colab": {
      "provenance": [],
      "include_colab_link": true
    }
  },
  "nbformat": 4,
  "nbformat_minor": 0
}