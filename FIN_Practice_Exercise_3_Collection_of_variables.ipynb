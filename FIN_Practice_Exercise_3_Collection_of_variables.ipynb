{
  "cells": [
    {
      "cell_type": "markdown",
      "metadata": {
        "id": "view-in-github",
        "colab_type": "text"
      },
      "source": [
        "<a href=\"https://colab.research.google.com/github/murdadrum/MIT-DSML/blob/main/FIN_Practice_Exercise_3_Collection_of_variables.ipynb\" target=\"_parent\"><img src=\"https://colab.research.google.com/assets/colab-badge.svg\" alt=\"Open In Colab\"/></a>"
      ]
    },
    {
      "cell_type": "markdown",
      "metadata": {
        "id": "CEw9Udm2aR6p"
      },
      "source": [
        "# **COLLECTION OF VARIABLES**"
      ]
    },
    {
      "cell_type": "markdown",
      "metadata": {
        "id": "smJ0QqY2aR6r"
      },
      "source": [
        "### 1. Create a list of repeated element (element 2, 48 times)"
      ]
    },
    {
      "cell_type": "code",
      "execution_count": null,
      "metadata": {
        "colab": {
          "base_uri": "https://localhost:8080/"
        },
        "id": "3At--AKCaR6s",
        "outputId": "66a3da8b-3b19-48f2-ed84-611ed44f4963"
      },
      "outputs": [
        {
          "output_type": "stream",
          "name": "stdout",
          "text": [
            "[7, 7, 7, 7, 7, 7, 7, 7, 7, 7, 7, 7, 7, 7, 7, 7, 7, 7, 7, 7, 7, 7, 7, 7, 7, 7, 7, 7, 7, 7, 7, 7, 7, 7, 7, 7, 7, 7, 7, 7, 7, 7, 7, 7, 7, 7, 7, 7]\n"
          ]
        }
      ],
      "source": [
        "repeated_list = [7] * 48\n",
        "print(repeated_list)"
      ]
    },
    {
      "cell_type": "markdown",
      "metadata": {
        "id": "0XBNFcLcaR6s"
      },
      "source": [
        "### 2. Print the second element of the list\n",
        "\n",
        "list = [\"apple\",\"orange\",\"grapes\",\"watermelon\"]"
      ]
    },
    {
      "cell_type": "code",
      "execution_count": null,
      "metadata": {
        "colab": {
          "base_uri": "https://localhost:8080/"
        },
        "id": "VyrvyCY9aR6s",
        "outputId": "2909c99a-efa7-4d61-87ff-4090db12209d"
      },
      "outputs": [
        {
          "output_type": "stream",
          "name": "stdout",
          "text": [
            "orange\n"
          ]
        }
      ],
      "source": [
        "list = [\"apple\",\"orange\",\"grapes\",\"watermelon\"]\n",
        "print(list[1])"
      ]
    },
    {
      "cell_type": "markdown",
      "metadata": {
        "id": "rwRMBvjRaR6s"
      },
      "source": [
        "### 3.  Replace the second element of the list with \"strawberries\"\n",
        "list = [\"apple\",\"orange\",\"grapes\",\"watermelon\"]"
      ]
    },
    {
      "cell_type": "code",
      "execution_count": null,
      "metadata": {
        "colab": {
          "base_uri": "https://localhost:8080/"
        },
        "id": "MSDBi5NsaR6t",
        "outputId": "4219664b-a06e-4e22-9170-c90a1928fc9b"
      },
      "outputs": [
        {
          "output_type": "stream",
          "name": "stdout",
          "text": [
            "['apple', 'strawberries', 'grapes', 'watermelon']\n"
          ]
        }
      ],
      "source": [
        "list = [\"apple\",\"orange\",\"grapes\",\"watermelon\"]\n",
        "list[1] = 'strawberries'\n",
        "print(list)"
      ]
    },
    {
      "cell_type": "markdown",
      "metadata": {
        "id": "CCPuT5TGaR6t"
      },
      "source": [
        "### 4. Iterate through the list and print the values"
      ]
    },
    {
      "cell_type": "code",
      "execution_count": null,
      "metadata": {
        "colab": {
          "base_uri": "https://localhost:8080/"
        },
        "id": "YZpGPJa7aR6t",
        "outputId": "308bfdf4-3c71-495e-8a7a-92d13ef963db"
      },
      "outputs": [
        {
          "output_type": "stream",
          "name": "stdout",
          "text": [
            "['apple', 'strawberries', 'grapes', 'watermelon']\n",
            "apple\n",
            "strawberries\n",
            "grapes\n",
            "watermelon\n"
          ]
        }
      ],
      "source": [
        "list = [\"apple\",\"orange\",\"grapes\",\"watermelon\"]\n",
        "list[1] = 'strawberries'\n",
        "print(list)\n",
        "for i in list:\n",
        "  print(i)"
      ]
    },
    {
      "cell_type": "markdown",
      "metadata": {
        "id": "2tQCf54PaR6t"
      },
      "source": [
        "### 5. Write a Python code to print squares of all numbers present in a list = [1, 12, 24, 36, 11, 20,50]"
      ]
    },
    {
      "cell_type": "code",
      "execution_count": null,
      "metadata": {
        "colab": {
          "base_uri": "https://localhost:8080/"
        },
        "id": "2sGd6OfVaR6t",
        "outputId": "8986fcc9-bd15-49cf-c05a-9199e80ab565"
      },
      "outputs": [
        {
          "output_type": "stream",
          "name": "stdout",
          "text": [
            "1\n",
            "144\n",
            "576\n",
            "1296\n",
            "121\n",
            "400\n",
            "2500\n"
          ]
        }
      ],
      "source": [
        "list = [1, 12, 24, 36, 11, 20, 50]\n",
        "for i in list:\n",
        "  print(i * i)"
      ]
    },
    {
      "cell_type": "markdown",
      "metadata": {
        "id": "bwCSFEwQaR6u"
      },
      "source": [
        "### 6. Pop yellow color from the list below:\n",
        "List=['white','red', 'blue', 'green','blue','yellow', 'black']"
      ]
    },
    {
      "cell_type": "code",
      "execution_count": null,
      "metadata": {
        "colab": {
          "base_uri": "https://localhost:8080/"
        },
        "id": "bQlKwd6raR6u",
        "outputId": "95b9850f-df95-4b04-bac4-a32cdcba7d31"
      },
      "outputs": [
        {
          "output_type": "stream",
          "name": "stdout",
          "text": [
            "['white', 'red', 'blue', 'green', 'blue', 'black']\n"
          ]
        }
      ],
      "source": [
        "List=['white','red', 'blue', 'green','blue','yellow', 'black']\n",
        "List.pop(5)\n",
        "print(List)"
      ]
    },
    {
      "cell_type": "markdown",
      "metadata": {
        "id": "3YSnJhpnaR6u"
      },
      "source": [
        "### 7. Check length of list\n",
        "\n",
        "list=[\"a\",\"b\",\"c\",\"d\",\"e\"]"
      ]
    },
    {
      "cell_type": "code",
      "execution_count": null,
      "metadata": {
        "colab": {
          "base_uri": "https://localhost:8080/"
        },
        "id": "xtGKqyLZaR6u",
        "outputId": "abc2e079-e2ee-41d4-aa57-0912d509f6ec"
      },
      "outputs": [
        {
          "output_type": "execute_result",
          "data": {
            "text/plain": [
              "5"
            ]
          },
          "metadata": {},
          "execution_count": 26
        }
      ],
      "source": [
        "list=[\"a\",\"b\",\"c\",\"d\",\"e\"]\n",
        "len(list)"
      ]
    },
    {
      "cell_type": "markdown",
      "metadata": {
        "id": "u58J3dnQaR6u"
      },
      "source": [
        "###  8. Create a dictionary with the following information:\n",
        "\n",
        "brand = Audi\n",
        "\n",
        "Model = Q2\n",
        "\n",
        "Year = 1980"
      ]
    },
    {
      "cell_type": "code",
      "execution_count": null,
      "metadata": {
        "colab": {
          "base_uri": "https://localhost:8080/"
        },
        "id": "7gZpmXXnaR6u",
        "outputId": "a9a91a6b-34df-4638-d47e-773601cbdcbc"
      },
      "outputs": [
        {
          "output_type": "execute_result",
          "data": {
            "text/plain": [
              "{'brand': 'Audi', 'Model': 'Q2', 'Year': '1980'}"
            ]
          },
          "metadata": {},
          "execution_count": 39
        }
      ],
      "source": [
        "car={'brand': 'Audi', 'Model': 'Q2', 'Year': str(1980)}\n",
        "# print(car)\n",
        "car\n",
        "# type(car['Year'])"
      ]
    },
    {
      "cell_type": "markdown",
      "metadata": {
        "id": "XKl_dfhsaR6u"
      },
      "source": [
        "### 9. In the above dictionary change the year to 2019"
      ]
    },
    {
      "cell_type": "code",
      "execution_count": null,
      "metadata": {
        "colab": {
          "base_uri": "https://localhost:8080/"
        },
        "id": "XcgjpO7VaR6v",
        "outputId": "12bc108e-aa15-45ba-944c-8d0b19fb19c2"
      },
      "outputs": [
        {
          "output_type": "execute_result",
          "data": {
            "text/plain": [
              "{'brand': 'Audi', 'Model': 'Q2', 'Year': 2019}"
            ]
          },
          "metadata": {},
          "execution_count": 37
        }
      ],
      "source": [
        "car={'brand': 'Audi', 'Model': 'Q2', 'Year': str(1980)}\n",
        "car['Year']= 2019\n",
        "car\n",
        "# type(car['Year'])"
      ]
    },
    {
      "cell_type": "markdown",
      "metadata": {
        "id": "NBBBX8LZaR6v"
      },
      "source": [
        "### 10. Create a set of following elements\n",
        "\n",
        "1.0, \"Hello\", 55 , (6,7,8)"
      ]
    },
    {
      "cell_type": "code",
      "execution_count": null,
      "metadata": {
        "colab": {
          "base_uri": "https://localhost:8080/"
        },
        "id": "Z4NfOGssaR6v",
        "outputId": "4afdfe7a-424a-49c2-e8d8-e41329a142b0"
      },
      "outputs": [
        {
          "output_type": "stream",
          "name": "stdout",
          "text": [
            "{1.0, (6, 7, 8), 'Hello', 55}\n"
          ]
        }
      ],
      "source": [
        "set={1.0, \"Hello\", 55 , (6,7,8)}\n",
        "print(set)"
      ]
    }
  ],
  "metadata": {
    "kernelspec": {
      "display_name": "Python 3 (ipykernel)",
      "language": "python",
      "name": "python3"
    },
    "language_info": {
      "codemirror_mode": {
        "name": "ipython",
        "version": 3
      },
      "file_extension": ".py",
      "mimetype": "text/x-python",
      "name": "python",
      "nbconvert_exporter": "python",
      "pygments_lexer": "ipython3",
      "version": "3.9.7"
    },
    "colab": {
      "provenance": [],
      "include_colab_link": true
    }
  },
  "nbformat": 4,
  "nbformat_minor": 0
}