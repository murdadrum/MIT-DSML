{
  "nbformat": 4,
  "nbformat_minor": 0,
  "metadata": {
    "colab": {
      "provenance": [],
      "collapsed_sections": [
        "SmLs-UpLH-25",
        "OZNoBpoLSxID",
        "VuhJSki2YyrQ"
      ],
      "authorship_tag": "ABX9TyMqVxqFpQbLq58jUJi4fpQ9",
      "include_colab_link": true
    },
    "kernelspec": {
      "name": "python3",
      "display_name": "Python 3"
    },
    "language_info": {
      "name": "python"
    }
  },
  "cells": [
    {
      "cell_type": "markdown",
      "metadata": {
        "id": "view-in-github",
        "colab_type": "text"
      },
      "source": [
        "<a href=\"https://colab.research.google.com/github/murdadrum/MIT-DSML/blob/main/FIN_PreWork_Quizzes_1.ipynb\" target=\"_parent\"><img src=\"https://colab.research.google.com/assets/colab-badge.svg\" alt=\"Open In Colab\"/></a>"
      ]
    },
    {
      "cell_type": "markdown",
      "source": [
        "#Practice Quiz - Introduction to Python"
      ],
      "metadata": {
        "id": "p33feHrCmRGT"
      }
    },
    {
      "cell_type": "code",
      "source": [
        "# Question 1\n",
        "# 1 Mark\n",
        "# For which of the following pairs of datatypes does the addition operation raise an error?\n",
        "# int and string\n",
        "(\"josh\" + '1')"
      ],
      "metadata": {
        "colab": {
          "base_uri": "https://localhost:8080/",
          "height": 35
        },
        "id": "41XHYGcHmVRt",
        "outputId": "a71ce3cc-2c3e-4388-b56a-19a2bc7dc567"
      },
      "execution_count": 2,
      "outputs": [
        {
          "output_type": "execute_result",
          "data": {
            "text/plain": [
              "'josh1'"
            ],
            "application/vnd.google.colaboratory.intrinsic+json": {
              "type": "string"
            }
          },
          "metadata": {},
          "execution_count": 2
        }
      ]
    },
    {
      "cell_type": "code",
      "source": [
        "# Question 2\n",
        "# 1 Mark\n",
        "# Which of the following is NOT true regarding loops in Python?\n",
        "while loop is used when multiple statements are to be executed repeatedly until the given condition becomes True"
      ],
      "metadata": {
        "id": "zI9h1O0cpCJ5"
      },
      "execution_count": null,
      "outputs": []
    },
    {
      "cell_type": "code",
      "source": [
        "# Question 3\n",
        "# 1 Mark\n",
        "# What will be the type of the variable 'c' after running the following code snippet?\n",
        "\n",
        "a = 10\n",
        "b = 2.3\n",
        "c = a*b\n",
        "type(c)\n",
        "print(c)"
      ],
      "metadata": {
        "colab": {
          "base_uri": "https://localhost:8080/"
        },
        "id": "GaTCC5grpRvu",
        "outputId": "98b328ae-3622-4b1c-d127-2d45c1a4b919"
      },
      "execution_count": null,
      "outputs": [
        {
          "output_type": "stream",
          "name": "stdout",
          "text": [
            "23.0\n"
          ]
        }
      ]
    },
    {
      "cell_type": "code",
      "source": [
        "# Question 4\n",
        "# 1 Mark\n",
        "# What will be the output of the following code snippet?\n",
        "\n",
        "i = '20'\n",
        "if i > 20:\n",
        "    print(1)\n",
        "else:\n",
        "    print(2)\n",
        "#TypeError"
      ],
      "metadata": {
        "colab": {
          "base_uri": "https://localhost:8080/",
          "height": 250
        },
        "id": "HMzjhK-JpnzS",
        "outputId": "5fe8e3e9-678f-4b8e-b3cb-ed331d4e42b0"
      },
      "execution_count": 3,
      "outputs": [
        {
          "output_type": "error",
          "ename": "TypeError",
          "evalue": "'>' not supported between instances of 'str' and 'int'",
          "traceback": [
            "\u001b[0;31m---------------------------------------------------------------------------\u001b[0m",
            "\u001b[0;31mTypeError\u001b[0m                                 Traceback (most recent call last)",
            "\u001b[0;32m<ipython-input-3-f73f1a34eb81>\u001b[0m in \u001b[0;36m<cell line: 6>\u001b[0;34m()\u001b[0m\n\u001b[1;32m      4\u001b[0m \u001b[0;34m\u001b[0m\u001b[0m\n\u001b[1;32m      5\u001b[0m \u001b[0mi\u001b[0m \u001b[0;34m=\u001b[0m \u001b[0;34m'20'\u001b[0m\u001b[0;34m\u001b[0m\u001b[0;34m\u001b[0m\u001b[0m\n\u001b[0;32m----> 6\u001b[0;31m \u001b[0;32mif\u001b[0m \u001b[0mi\u001b[0m \u001b[0;34m>\u001b[0m \u001b[0;36m20\u001b[0m\u001b[0;34m:\u001b[0m\u001b[0;34m\u001b[0m\u001b[0;34m\u001b[0m\u001b[0m\n\u001b[0m\u001b[1;32m      7\u001b[0m     \u001b[0mprint\u001b[0m\u001b[0;34m(\u001b[0m\u001b[0;36m1\u001b[0m\u001b[0;34m)\u001b[0m\u001b[0;34m\u001b[0m\u001b[0;34m\u001b[0m\u001b[0m\n\u001b[1;32m      8\u001b[0m \u001b[0;32melse\u001b[0m\u001b[0;34m:\u001b[0m\u001b[0;34m\u001b[0m\u001b[0;34m\u001b[0m\u001b[0m\n",
            "\u001b[0;31mTypeError\u001b[0m: '>' not supported between instances of 'str' and 'int'"
          ]
        }
      ]
    },
    {
      "cell_type": "code",
      "source": [
        "# Question 5\n",
        "# 1 Mark\n",
        "# What will be the value of the variable 'a' after the fourth iteration of the following for loop?\n",
        "\n",
        "a = 1\n",
        "for i in range(1,5):\n",
        "     a = a*i\n",
        "print(a)"
      ],
      "metadata": {
        "colab": {
          "base_uri": "https://localhost:8080/"
        },
        "id": "CysWsv8Bp6oO",
        "outputId": "9b5e3980-e04c-4eca-e332-2b272f469398"
      },
      "execution_count": null,
      "outputs": [
        {
          "output_type": "stream",
          "name": "stdout",
          "text": [
            "24\n"
          ]
        }
      ]
    },
    {
      "cell_type": "code",
      "source": [
        "# Question 6\n",
        "# 1 Mark\n",
        "# Which of the following codes will fetch the third element from the start of a list named new_list containing 4 elements?\n",
        "new_list=[\"josh1\", \"josh2\", \"josh3\", \"josh4\"]\n",
        "new_list[-2]"
      ],
      "metadata": {
        "colab": {
          "base_uri": "https://localhost:8080/",
          "height": 35
        },
        "id": "kYS5V43KsbYH",
        "outputId": "194c481d-626b-4fc5-c947-4e943109c410"
      },
      "execution_count": null,
      "outputs": [
        {
          "output_type": "execute_result",
          "data": {
            "text/plain": [
              "'josh3'"
            ],
            "application/vnd.google.colaboratory.intrinsic+json": {
              "type": "string"
            }
          },
          "metadata": {},
          "execution_count": 197
        }
      ]
    },
    {
      "cell_type": "code",
      "source": [
        "# Question 7\n",
        "# 1 Mark\n",
        "# Following is a dictionary named alphabets:\n",
        "\n",
        "alphabets = {'1':'A','2':'B','3': ['C','D','E']}\n",
        "# Which statement among the following will fetch the element 'E'?\n",
        "alphabets['3'][2]"
      ],
      "metadata": {
        "colab": {
          "base_uri": "https://localhost:8080/",
          "height": 35
        },
        "id": "g059o0zQs-iL",
        "outputId": "f8f06bc4-2fd1-4584-d7e8-1a7674336984"
      },
      "execution_count": null,
      "outputs": [
        {
          "output_type": "execute_result",
          "data": {
            "text/plain": [
              "'E'"
            ],
            "application/vnd.google.colaboratory.intrinsic+json": {
              "type": "string"
            }
          },
          "metadata": {},
          "execution_count": 170
        }
      ]
    },
    {
      "cell_type": "code",
      "source": [
        "# Question 8\n",
        "# 1 Mark\n",
        "# How will you fetch [True, 46] from the list below?\n",
        "\n",
        "list = [\"Great\", 51, True, 46, \"Hi\"]\n",
        "list[2:-1]"
      ],
      "metadata": {
        "colab": {
          "base_uri": "https://localhost:8080/"
        },
        "id": "c2gkQX7cthA8",
        "outputId": "f1b47319-0a72-4641-c2e5-6f592bec829a"
      },
      "execution_count": null,
      "outputs": [
        {
          "output_type": "execute_result",
          "data": {
            "text/plain": [
              "[True, 46]"
            ]
          },
          "metadata": {},
          "execution_count": 219
        }
      ]
    },
    {
      "cell_type": "code",
      "source": [
        "# Question 9\n",
        "# 1 Mark\n",
        "# What will be the output of the following code?\n",
        "\n",
        "list_mul = ['2','2','2']\n",
        "list_mul*2"
      ],
      "metadata": {
        "colab": {
          "base_uri": "https://localhost:8080/"
        },
        "id": "k0XR-_WAvLbh",
        "outputId": "7bbc9cf9-f24b-4313-ae89-e7a88f522e78"
      },
      "execution_count": null,
      "outputs": [
        {
          "output_type": "execute_result",
          "data": {
            "text/plain": [
              "['2', '2', '2', '2', '2', '2']"
            ]
          },
          "metadata": {},
          "execution_count": 200
        }
      ]
    },
    {
      "cell_type": "code",
      "source": [
        "# Question 10\n",
        "# 1 Mark\n",
        "# Which of the following pairs of functions yield the same output?\n",
        "def fun(n):\n",
        "    return n*n*n\n",
        "# lambda_cube = lambda n: n*n*n\n",
        "fun(3)"
      ],
      "metadata": {
        "colab": {
          "base_uri": "https://localhost:8080/"
        },
        "id": "UqsNP9AQwEDV",
        "outputId": "962c11b6-2a7d-449f-ee5f-e27c320a59d5"
      },
      "execution_count": null,
      "outputs": [
        {
          "output_type": "execute_result",
          "data": {
            "text/plain": [
              "27"
            ]
          },
          "metadata": {},
          "execution_count": 207
        }
      ]
    },
    {
      "cell_type": "code",
      "source": [
        "lambda_cube = lambda n: n*n*n\n",
        "lambda_cube(3)"
      ],
      "metadata": {
        "colab": {
          "base_uri": "https://localhost:8080/"
        },
        "id": "XwisIXNDwhzE",
        "outputId": "2700a58d-5bd9-472e-d3cc-3f89fbf0a875"
      },
      "execution_count": null,
      "outputs": [
        {
          "output_type": "execute_result",
          "data": {
            "text/plain": [
              "27"
            ]
          },
          "metadata": {},
          "execution_count": 205
        }
      ]
    },
    {
      "cell_type": "markdown",
      "source": [
        "#Practice Quiz 1.1 - Intro to Variables"
      ],
      "metadata": {
        "id": "SmLs-UpLH-25"
      }
    },
    {
      "cell_type": "code",
      "source": [
        "a = 10\n",
        "b = 5.1\n",
        "add = a + b\n",
        "type(add)"
      ],
      "metadata": {
        "colab": {
          "base_uri": "https://localhost:8080/"
        },
        "id": "M3yEnYJyIMre",
        "outputId": "00ea2ace-35b5-4ebb-e6ba-2fe5b7863136"
      },
      "execution_count": null,
      "outputs": [
        {
          "output_type": "execute_result",
          "data": {
            "text/plain": [
              "float"
            ]
          },
          "metadata": {},
          "execution_count": 1
        }
      ]
    },
    {
      "cell_type": "code",
      "source": [
        "5 == (3 + 2)"
      ],
      "metadata": {
        "colab": {
          "base_uri": "https://localhost:8080/"
        },
        "id": "wZsuJ2oUIaCK",
        "outputId": "43806a8b-39ed-40e1-d2f4-a89e8ffd5cd5"
      },
      "execution_count": null,
      "outputs": [
        {
          "output_type": "execute_result",
          "data": {
            "text/plain": [
              "True"
            ]
          },
          "metadata": {},
          "execution_count": 2
        }
      ]
    },
    {
      "cell_type": "code",
      "source": [
        "a = 3\n",
        "print(a + (33))"
      ],
      "metadata": {
        "colab": {
          "base_uri": "https://localhost:8080/"
        },
        "id": "1NXz4RTfIvKE",
        "outputId": "0f1acee0-7f86-45e7-d76f-c3e14a20eea5"
      },
      "execution_count": null,
      "outputs": [
        {
          "output_type": "stream",
          "name": "stdout",
          "text": [
            "36\n"
          ]
        }
      ]
    },
    {
      "cell_type": "code",
      "source": [
        "a = 3.5\n",
        "int(a)"
      ],
      "metadata": {
        "colab": {
          "base_uri": "https://localhost:8080/"
        },
        "id": "9Z_7GGLMJGML",
        "outputId": "0aec5b77-59be-4ea4-8b33-08a0dfdc65e2"
      },
      "execution_count": null,
      "outputs": [
        {
          "output_type": "execute_result",
          "data": {
            "text/plain": [
              "3"
            ]
          },
          "metadata": {},
          "execution_count": 12
        }
      ]
    },
    {
      "cell_type": "code",
      "source": [
        "a = '5a'\n",
        "int(a)"
      ],
      "metadata": {
        "colab": {
          "base_uri": "https://localhost:8080/",
          "height": 197
        },
        "id": "vfaSxVzlJ4i6",
        "outputId": "b169ed68-baf7-4c8f-a714-4b5d65e54984"
      },
      "execution_count": null,
      "outputs": [
        {
          "output_type": "error",
          "ename": "ValueError",
          "evalue": "invalid literal for int() with base 10: '5a'",
          "traceback": [
            "\u001b[0;31m---------------------------------------------------------------------------\u001b[0m",
            "\u001b[0;31mValueError\u001b[0m                                Traceback (most recent call last)",
            "\u001b[0;32m<ipython-input-13-ae0dd5c17f09>\u001b[0m in \u001b[0;36m<cell line: 2>\u001b[0;34m()\u001b[0m\n\u001b[1;32m      1\u001b[0m \u001b[0ma\u001b[0m \u001b[0;34m=\u001b[0m \u001b[0;34m'5a'\u001b[0m\u001b[0;34m\u001b[0m\u001b[0;34m\u001b[0m\u001b[0m\n\u001b[0;32m----> 2\u001b[0;31m \u001b[0mint\u001b[0m\u001b[0;34m(\u001b[0m\u001b[0ma\u001b[0m\u001b[0;34m)\u001b[0m\u001b[0;34m\u001b[0m\u001b[0;34m\u001b[0m\u001b[0m\n\u001b[0m",
            "\u001b[0;31mValueError\u001b[0m: invalid literal for int() with base 10: '5a'"
          ]
        }
      ]
    },
    {
      "cell_type": "code",
      "source": [
        "area = 0.5 * 10 * 5\n",
        "print(\"Area of triangle:\", area)"
      ],
      "metadata": {
        "colab": {
          "base_uri": "https://localhost:8080/"
        },
        "id": "oddQdsIyJ6Vf",
        "outputId": "5e89eded-55ff-4b01-adc4-190a3873eca7"
      },
      "execution_count": null,
      "outputs": [
        {
          "output_type": "stream",
          "name": "stdout",
          "text": [
            "Area of triangle: 25.0\n"
          ]
        }
      ]
    },
    {
      "cell_type": "code",
      "source": [
        "v = 10\n",
        "w = 25\n",
        "x = 70\n",
        "y = 2\n",
        "z = (v + w) * (x / y)\n",
        "z"
      ],
      "metadata": {
        "colab": {
          "base_uri": "https://localhost:8080/"
        },
        "id": "mKoVqYVbKpV-",
        "outputId": "4a4ca129-960c-4b2a-a379-50634e647b5f"
      },
      "execution_count": null,
      "outputs": [
        {
          "output_type": "execute_result",
          "data": {
            "text/plain": [
              "1225.0"
            ]
          },
          "metadata": {},
          "execution_count": 20
        }
      ]
    },
    {
      "cell_type": "code",
      "source": [
        "a = 10\n",
        "b = 5\n",
        "print(\"A and B before swapping {},{}\".format(a,b))\n",
        "temp = a #create a third variable and assign the value of a to it\n",
        "#write the missing code(code missing here)\n",
        "a = b\n",
        "b = temp #value of a is in third variable so assign the value to b\n",
        "print(\"A and B after swapping {},{}\".format(a,b))"
      ],
      "metadata": {
        "colab": {
          "base_uri": "https://localhost:8080/"
        },
        "id": "4iVZFJJ5LN5G",
        "outputId": "76108620-9be9-4c4c-dd3c-e5f1eb3474f7"
      },
      "execution_count": null,
      "outputs": [
        {
          "output_type": "stream",
          "name": "stdout",
          "text": [
            "A and B before swapping 10,5\n",
            "A and B after swapping 5,10\n"
          ]
        }
      ]
    },
    {
      "cell_type": "code",
      "source": [
        "celsius = 35\n",
        "fah = 1.8 * celsius + 32\n",
        "print(\"Temperature in Fahrenheit =\", fah)"
      ],
      "metadata": {
        "colab": {
          "base_uri": "https://localhost:8080/"
        },
        "id": "iTZl-IvZMRVc",
        "outputId": "9b2f5dcd-1112-4da3-830c-86446ef735e3"
      },
      "execution_count": null,
      "outputs": [
        {
          "output_type": "stream",
          "name": "stdout",
          "text": [
            "Temperature in Fahrenheit = 95.0\n"
          ]
        }
      ]
    },
    {
      "cell_type": "markdown",
      "source": [
        "#Practice Quiz 1.2 - Collection of Variables"
      ],
      "metadata": {
        "id": "fwR7a1SpM5lO"
      }
    },
    {
      "cell_type": "code",
      "source": [
        "# Question 1\n",
        "# 1 Mark\n",
        "# What will be the output of the following snippet?\n",
        "repeated_list = [2] * 4\n",
        "print(repeated_list)"
      ],
      "metadata": {
        "colab": {
          "base_uri": "https://localhost:8080/"
        },
        "id": "fLYv4ExGNAPS",
        "outputId": "32d4e1d3-a755-457b-c814-0dbc224835d3"
      },
      "execution_count": null,
      "outputs": [
        {
          "output_type": "stream",
          "name": "stdout",
          "text": [
            "[2, 2, 2, 2]\n"
          ]
        }
      ]
    },
    {
      "cell_type": "code",
      "source": [
        "# Question 2\n",
        "# 1 Mark\n",
        "# Which of the following codes can be used to print the second element of the below list?\n",
        "fruit = [\"apple\",\"orange\",\"grapes\",\"watermelon\"]\n",
        "print(fruit[1])"
      ],
      "metadata": {
        "colab": {
          "base_uri": "https://localhost:8080/"
        },
        "id": "V-f7haUMNr3e",
        "outputId": "5dc12484-6c6d-4e3b-f228-34efb40301ee"
      },
      "execution_count": null,
      "outputs": [
        {
          "output_type": "stream",
          "name": "stdout",
          "text": [
            "orange\n"
          ]
        }
      ]
    },
    {
      "cell_type": "code",
      "source": [
        "# Question 3\n",
        "# 1 Mark\n",
        "# Which of the following codes can be used to replace the first element of the list fruit with \"strawberries\"?\n",
        "fruit = [\"apple\",\"orange\",\"grapes\",\"watermelon\"]\n",
        "fruit[0] = \"strawberries\"\n",
        "print(fruit)"
      ],
      "metadata": {
        "colab": {
          "base_uri": "https://localhost:8080/"
        },
        "id": "q3ai2mUlNwqv",
        "outputId": "0b04fd26-d4ac-4875-e8ee-2584bb17d991"
      },
      "execution_count": null,
      "outputs": [
        {
          "output_type": "stream",
          "name": "stdout",
          "text": [
            "['strawberries', 'orange', 'grapes', 'watermelon']\n"
          ]
        }
      ]
    },
    {
      "cell_type": "code",
      "source": [
        "# Question 4\n",
        "# 1 Mark\n",
        "# Which of the following snippets can be used to iterate through the list and print its elements?\n",
        "alphabet = ['a','b','c']\n",
        "for i in alphabet:\n",
        " print(i)"
      ],
      "metadata": {
        "colab": {
          "base_uri": "https://localhost:8080/"
        },
        "id": "zLuLvDfPOCBc",
        "outputId": "a4ecb3f5-5d51-401f-f647-98d48a670316"
      },
      "execution_count": null,
      "outputs": [
        {
          "output_type": "stream",
          "name": "stdout",
          "text": [
            "a\n",
            "b\n",
            "c\n"
          ]
        }
      ]
    },
    {
      "cell_type": "code",
      "source": [
        "# Question 5\n",
        "# 1 Mark\n",
        "# Which of the following snippets can be used to print squares of all numbers present in the list = [1, 12, 24, 36, 11, 20,50]?\n",
        "number = [1, 12, 24, 36, 11, 20,50]\n",
        "for i in number:\n",
        " sq = i * i\n",
        " print(sq)"
      ],
      "metadata": {
        "colab": {
          "base_uri": "https://localhost:8080/"
        },
        "id": "YvLK2mKAOr7e",
        "outputId": "3570c213-10c8-4408-eecb-1a081966c086"
      },
      "execution_count": null,
      "outputs": [
        {
          "output_type": "stream",
          "name": "stdout",
          "text": [
            "1\n",
            "144\n",
            "576\n",
            "1296\n",
            "121\n",
            "400\n",
            "2500\n"
          ]
        }
      ]
    },
    {
      "cell_type": "code",
      "source": [
        "# Question 6\n",
        "# 1 Mark\n",
        "# Which among the following code is used to get the number of elements present in a list ?\n",
        "len(name_of_list)"
      ],
      "metadata": {
        "id": "51MVZXK5Pb6L"
      },
      "execution_count": null,
      "outputs": []
    },
    {
      "cell_type": "code",
      "source": [
        "# Question 7\n",
        "# 1 Mark\n",
        "# Choose the appropriate code to remove the 'yellow' color from the list mentioned below:\n",
        "color = ['white','red', 'blue', 'green','blue','yellow', 'black']\n",
        "color.pop(5)\n",
        "print(color)"
      ],
      "metadata": {
        "colab": {
          "base_uri": "https://localhost:8080/"
        },
        "id": "dGuqFrykPoFV",
        "outputId": "32c7bd32-9e5d-45ec-aabf-48c68bfb8d6b"
      },
      "execution_count": null,
      "outputs": [
        {
          "output_type": "stream",
          "name": "stdout",
          "text": [
            "['white', 'red', 'blue', 'green', 'blue', 'black']\n"
          ]
        }
      ]
    },
    {
      "cell_type": "code",
      "source": [
        "# Question 8\n",
        "# 1 Mark\n",
        "# Which of the following built-in methods can be used to check the length of the following list?\n",
        "color = ['white','red', 'blue', 'green','blue','yellow', 'black']\n",
        "len(color)"
      ],
      "metadata": {
        "colab": {
          "base_uri": "https://localhost:8080/"
        },
        "id": "FRkhW_wJP5B-",
        "outputId": "38c4d1fb-8617-4c63-c8e9-2bde38dc28e1"
      },
      "execution_count": null,
      "outputs": [
        {
          "output_type": "execute_result",
          "data": {
            "text/plain": [
              "7"
            ]
          },
          "metadata": {},
          "execution_count": 32
        }
      ]
    },
    {
      "cell_type": "code",
      "source": [
        "# Question 9\n",
        "# 1 Mark\n",
        "# Choose the appropriate snippet to create and print a dictionary with the following information.\n",
        "# brand = Audi\n",
        "\n",
        "# Model = Q2\n",
        "\n",
        "# Year = 1980\n",
        "car = { \"brand\" : \"Audi\",\"model\" : \"Q2\", \"year\" : 1980}\n",
        "# car[\"year\"] = 2019\n",
        "print(car)"
      ],
      "metadata": {
        "colab": {
          "base_uri": "https://localhost:8080/"
        },
        "id": "6Kt4mijBQyBd",
        "outputId": "5afdf65e-25bd-430c-d00a-296a04097339"
      },
      "execution_count": null,
      "outputs": [
        {
          "output_type": "stream",
          "name": "stdout",
          "text": [
            "{'brand': 'Audi', 'model': 'Q2', 'year': 1980}\n"
          ]
        }
      ]
    },
    {
      "cell_type": "code",
      "source": [
        "# Question 10\n",
        "# 1 Mark\n",
        "# Which of the following codes can be used to change the year to 2019 in the below dictionary?\n",
        "car[\"year\"] = 2019"
      ],
      "metadata": {
        "id": "XBwKn3JiRUap"
      },
      "execution_count": null,
      "outputs": []
    },
    {
      "cell_type": "markdown",
      "source": [],
      "metadata": {
        "id": "jz362qw0M9ip"
      }
    },
    {
      "cell_type": "markdown",
      "source": [
        "#Practice Quiz 1.3 - Conditional Statements"
      ],
      "metadata": {
        "id": "OZNoBpoLSxID"
      }
    },
    {
      "cell_type": "code",
      "source": [
        "# Question 1\n",
        "# 1 Mark\n",
        "# What will be the output of the following code?\n",
        "a = 56\n",
        "if a == 10:\n",
        " print(\"Hello\")\n",
        "else:\n",
        " print(\"Good Bye\")"
      ],
      "metadata": {
        "colab": {
          "base_uri": "https://localhost:8080/"
        },
        "id": "Hv3AHhiwS2qe",
        "outputId": "574aea3c-d12e-4d93-967c-f6a593bed53e"
      },
      "execution_count": null,
      "outputs": [
        {
          "output_type": "stream",
          "name": "stdout",
          "text": [
            "Good Bye\n"
          ]
        }
      ]
    },
    {
      "cell_type": "code",
      "source": [
        "# Question 2\n",
        "# 1 Mark\n",
        "# Choose the appropriate snippet to check whether a number is even or odd:\n",
        "a = 2020\n",
        "if a % 2 == 0:\n",
        " print(\"Number is Even\")\n",
        "else:\n",
        " print(\"Number is Odd\")"
      ],
      "metadata": {
        "colab": {
          "base_uri": "https://localhost:8080/"
        },
        "id": "uYXRYs1HTGsv",
        "outputId": "1d4d42b9-d84e-48e8-eccd-fca306cd4297"
      },
      "execution_count": null,
      "outputs": [
        {
          "output_type": "stream",
          "name": "stdout",
          "text": [
            "Number is Even\n"
          ]
        }
      ]
    },
    {
      "cell_type": "code",
      "source": [
        "# Question 3\n",
        "# 1 Mark\n",
        "# What will be the output of the following code?\n",
        "length = 5\n",
        "breadth = 10\n",
        "# find the area and perimeter of the rectangle\n",
        "Area = length * breadth\n",
        "Perimeter = 2 * (length + breadth)\n",
        "# check whether the area of the rectangle is greater than the perimeter of the rectangle\n",
        "if Area > Perimeter:\n",
        " print(\"Area of the rectangle is greater than the Perimeter of the rectangle\")\n",
        "else:\n",
        " print(\"Perimeter of the rectangle is greater than the Area of the rectangle\")"
      ],
      "metadata": {
        "colab": {
          "base_uri": "https://localhost:8080/"
        },
        "id": "iliTiFbETpOs",
        "outputId": "89972b37-9d87-469f-fdc2-ff613a6f91ac"
      },
      "execution_count": null,
      "outputs": [
        {
          "output_type": "stream",
          "name": "stdout",
          "text": [
            "Area of the rectangle is greater than the Perimeter of the rectangle\n"
          ]
        }
      ]
    },
    {
      "cell_type": "code",
      "source": [
        "# Question 4\n",
        "# 1 Mark\n",
        "# Which among the following code snippets can be used to calculate the average marks of a student in 5 subjects, and give grades according to the following rules:\n",
        "\n",
        "# If average > 90, then Grade = A\n",
        "\n",
        "# If average > 80, then Grade = B\n",
        "\n",
        "# If average > 70, then Grade = C\n",
        "\n",
        "# If average > 60, then Grade = D\n",
        "\n",
        "# If average > 50, then Grade = E\n",
        "\n",
        "m1 = 72\n",
        "m2 = 85\n",
        "m3 = 96\n",
        "m4 = 42\n",
        "m5 = 95\n",
        "avg = (m1 + m2 + m3 + m4 + m5) / 5\n",
        "print(\"Average=\", avg)\n",
        "if avg > 90:\n",
        " print(\"Grade A\")\n",
        "elif avg > 80:\n",
        " print(\"Grade B\")\n",
        "elif avg > 70:\n",
        " print(\"Grade C\")\n",
        "elif avg > 60:\n",
        " print(\"Grade D\")\n",
        "elif avg > 50:\n",
        " print(\"Grade E\")\n",
        "else:\n",
        " print(\"Fail\")"
      ],
      "metadata": {
        "colab": {
          "base_uri": "https://localhost:8080/"
        },
        "id": "lzCqetBtUHI9",
        "outputId": "a9775203-98d4-4f41-9c10-b1db4baeb2cc"
      },
      "execution_count": null,
      "outputs": [
        {
          "output_type": "stream",
          "name": "stdout",
          "text": [
            "Average= 78.0\n",
            "Grade C\n"
          ]
        }
      ]
    },
    {
      "cell_type": "code",
      "source": [
        "# Question 5\n",
        "# 1 Mark\n",
        "# Which of the following code snippets can be used to complete the code, to check if a given triangle is equilateral(all sides are equal), isosceles(any two sides are equal), or scalene(no sides are equal):\n",
        "\n",
        "x = 6\n",
        "y = 6\n",
        "z = 6\n",
        "if x == y == z:\n",
        " # missing code 1\n",
        " print(\"Equilateral triangle\")\n",
        "elif x==y or y==z or z==x:\n",
        " # missing code 2\n",
        " print(\"isosceles triangle\")\n",
        "else:\n",
        " # missing code 3\n",
        " print(\"Scalene triangle\")"
      ],
      "metadata": {
        "colab": {
          "base_uri": "https://localhost:8080/"
        },
        "id": "KFWdzQ-4UpZV",
        "outputId": "fe4602e4-52d1-42a4-e761-ae7c15d6045a"
      },
      "execution_count": null,
      "outputs": [
        {
          "output_type": "stream",
          "name": "stdout",
          "text": [
            "Equilateral triangle\n"
          ]
        }
      ]
    },
    {
      "cell_type": "code",
      "source": [
        "# Question 6\n",
        "# 1 Mark\n",
        "# What will be the output of the following code?\n",
        "\n",
        "a = \"I am a Data Scientist\"\n",
        "if \"Data\" in a:\n",
        " print(\"It is present\")\n",
        "else:\n",
        " print(False)"
      ],
      "metadata": {
        "colab": {
          "base_uri": "https://localhost:8080/"
        },
        "id": "gfnAjLSxVV81",
        "outputId": "84b930f4-ab2e-47a5-bb22-de75060cdf8a"
      },
      "execution_count": null,
      "outputs": [
        {
          "output_type": "stream",
          "name": "stdout",
          "text": [
            "It is present\n"
          ]
        }
      ]
    },
    {
      "cell_type": "code",
      "source": [
        "# Question 7\n",
        "# 1 Mark\n",
        "# What will be the output of the following Python code?\n",
        "a = -99\n",
        "if a > 0:\n",
        " print(\"Number is Positive)\n",
        "else:\n",
        " print(\"Number is negative\")\n",
        " #SyntaxError: EOL while scanning string literal"
      ],
      "metadata": {
        "colab": {
          "base_uri": "https://localhost:8080/",
          "height": 143
        },
        "id": "iUNKFQSSVwpI",
        "outputId": "d3dac588-b450-46e9-a891-9b81804f376c"
      },
      "execution_count": null,
      "outputs": [
        {
          "output_type": "error",
          "ename": "SyntaxError",
          "evalue": "unterminated string literal (detected at line 6) (<ipython-input-57-8cdcb72ef851>, line 6)",
          "traceback": [
            "\u001b[0;36m  File \u001b[0;32m\"<ipython-input-57-8cdcb72ef851>\"\u001b[0;36m, line \u001b[0;32m6\u001b[0m\n\u001b[0;31m    print(\"Number is Positive)\u001b[0m\n\u001b[0m          ^\u001b[0m\n\u001b[0;31mSyntaxError\u001b[0m\u001b[0;31m:\u001b[0m unterminated string literal (detected at line 6)\n"
          ]
        }
      ]
    },
    {
      "cell_type": "code",
      "source": [
        "# Question 8\n",
        "# 1 Mark\n",
        "# Suppose x = 20 and y = 30. Choose the appropriate snippet to check if x is less than y:\n",
        "x = 20\n",
        "y = 30\n",
        "if x < y:\n",
        " print(\"X is less than Y\")"
      ],
      "metadata": {
        "colab": {
          "base_uri": "https://localhost:8080/"
        },
        "id": "H6L5abCNWza-",
        "outputId": "c1b6c4cf-56de-44dd-a885-c158ae13fa09"
      },
      "execution_count": null,
      "outputs": [
        {
          "output_type": "stream",
          "name": "stdout",
          "text": [
            "X is less than Y\n"
          ]
        }
      ]
    },
    {
      "cell_type": "code",
      "source": [
        "# Question 9\n",
        "# 1 Mark\n",
        "# Which among the following code snippets can be used to divide the citizens of a country into three groups based on their age?\n",
        "\n",
        "# The rules to divide the citizens into group 1, group 2, and group 3 are -\n",
        "\n",
        "# Group 1: Age < 18, Minors who are not eligible to work\n",
        "# Group 2: 18 <= Age <= 60, Eligible to work\n",
        "# Group 3: Age > 60, Too old to work as per govt. regulations\n",
        "# age = int(input('Enter your age: '))\n",
        "# if age < 18:\n",
        "#  print(\"Not Eligible for work\")\n",
        "# elif age >= 18 and age <= 60:\n",
        "#  print(\"Eligible to work\")\n",
        "# else:\n",
        "#  print(\"Too old to work as per the government rules\")\n",
        "age = int(input('Enter your age: '))\n",
        "if age < 18:\n",
        " print(\"Not Eligible for work\")\n",
        "elif age <= 60:\n",
        " print(\"Eligible to work\")\n",
        "else:\n",
        " print(\"Too old to work as per the government rules\")\n"
      ],
      "metadata": {
        "colab": {
          "base_uri": "https://localhost:8080/"
        },
        "id": "V7El6Q2AXKWA",
        "outputId": "c5577a8e-da43-4cbc-ee66-7b7e07b1874a"
      },
      "execution_count": null,
      "outputs": [
        {
          "output_type": "stream",
          "name": "stdout",
          "text": [
            "Enter your age: 61\n",
            "Too old to work as per the government rules\n"
          ]
        }
      ]
    },
    {
      "cell_type": "code",
      "source": [
        "# Question 10\n",
        "# 1 Mark\n",
        "# What will be the output of the following code?\n",
        "\n",
        "first = 25\n",
        "second = 34\n",
        "third = 45\n",
        "if first >= second and first >= third:\n",
        " print(first)\n",
        "elif second >= first and second >= third:\n",
        " print(second)\n",
        "elif third >= first and third >= second:\n",
        " print(third)\n",
        "else:\n",
        " print(\"All of the values are equal\")"
      ],
      "metadata": {
        "colab": {
          "base_uri": "https://localhost:8080/"
        },
        "id": "CJFlCI_vX9Jm",
        "outputId": "07c620cb-2041-46f2-c4db-55870ee8ae87"
      },
      "execution_count": null,
      "outputs": [
        {
          "output_type": "stream",
          "name": "stdout",
          "text": [
            "45\n"
          ]
        }
      ]
    },
    {
      "cell_type": "markdown",
      "source": [],
      "metadata": {
        "id": "KTHWNke1YtiX"
      }
    },
    {
      "cell_type": "markdown",
      "source": [
        "#Practice Quiz 1.4 - Looping Statements"
      ],
      "metadata": {
        "id": "VuhJSki2YyrQ"
      }
    },
    {
      "cell_type": "code",
      "source": [
        "# Question 1\n",
        "# 1 Mark\n",
        "# Which among the below snippets can be used to print all integers between -10 to -1 including both -10 and -1?\n",
        "for i in range(-10, 0, 1):\n",
        " print(i)"
      ],
      "metadata": {
        "colab": {
          "base_uri": "https://localhost:8080/"
        },
        "id": "opXu4jS-Y0g4",
        "outputId": "768dfbac-3842-4920-93b6-9f4a0a3af9ea"
      },
      "execution_count": null,
      "outputs": [
        {
          "output_type": "stream",
          "name": "stdout",
          "text": [
            "-10\n",
            "-9\n",
            "-8\n",
            "-7\n",
            "-6\n",
            "-5\n",
            "-4\n",
            "-3\n",
            "-2\n",
            "-1\n"
          ]
        }
      ]
    },
    {
      "cell_type": "code",
      "source": [
        "# Question 2\n",
        "# 1 Mark\n",
        "# Which of the following snippets can be used to complete the code to print numbers from 1 to 10:\n",
        "\n",
        "n = 10\n",
        "i = 1\n",
        "while i <= n:\n",
        " print(i)\n",
        " # missing code\n",
        " i = i + 1"
      ],
      "metadata": {
        "colab": {
          "base_uri": "https://localhost:8080/"
        },
        "id": "mwFIXHz1ZZzB",
        "outputId": "5d054738-fb43-412a-dc27-d7e92918c021"
      },
      "execution_count": null,
      "outputs": [
        {
          "output_type": "stream",
          "name": "stdout",
          "text": [
            "1\n",
            "2\n",
            "3\n",
            "4\n",
            "5\n",
            "6\n",
            "7\n",
            "8\n",
            "9\n",
            "10\n"
          ]
        }
      ]
    },
    {
      "cell_type": "code",
      "source": [
        "# Question 3\n",
        "# 1 Mark\n",
        "# Which of the following snippets can be used to complete the code to print the first ten even numbers:\n",
        "\n",
        "for i in range(1, 21):\n",
        " # missing code\n",
        " if i % 2 == 0:\n",
        "     print(i)\n"
      ],
      "metadata": {
        "colab": {
          "base_uri": "https://localhost:8080/"
        },
        "id": "N3H6Mvr1ZvCY",
        "outputId": "c174a30f-5931-4c6e-ddd1-5bdd461d563b"
      },
      "execution_count": null,
      "outputs": [
        {
          "output_type": "stream",
          "name": "stdout",
          "text": [
            "2\n",
            "4\n",
            "6\n",
            "8\n",
            "10\n",
            "12\n",
            "14\n",
            "16\n",
            "18\n",
            "20\n"
          ]
        }
      ]
    },
    {
      "cell_type": "code",
      "source": [
        "# Question 4\n",
        "# 1 Mark\n",
        "# What will be the output of the following Python code?\n",
        "\n",
        "n = 8\n",
        "for i in range(1, 11):\n",
        " print(\"{} ^ {} =\".format(n, i), n**i)"
      ],
      "metadata": {
        "colab": {
          "base_uri": "https://localhost:8080/"
        },
        "id": "qSyMyll-aJsL",
        "outputId": "2f9a7328-5061-4a3d-96b3-0c7e48cd1677"
      },
      "execution_count": null,
      "outputs": [
        {
          "output_type": "stream",
          "name": "stdout",
          "text": [
            "8 ^ 1 = 8\n",
            "8 ^ 2 = 64\n",
            "8 ^ 3 = 512\n",
            "8 ^ 4 = 4096\n",
            "8 ^ 5 = 32768\n",
            "8 ^ 6 = 262144\n",
            "8 ^ 7 = 2097152\n",
            "8 ^ 8 = 16777216\n",
            "8 ^ 9 = 134217728\n",
            "8 ^ 10 = 1073741824\n"
          ]
        }
      ]
    },
    {
      "cell_type": "code",
      "source": [
        "# Question 5\n",
        "# 1.5 Marks\n",
        "# Choose the appropriate snippet to print the messages with the following information.\n",
        "\n",
        "# For numbers 1 to 100:\n",
        "\n",
        "# If a number is divisible by 3, then print Fizz.\n",
        "\n",
        "# If a number is divisible by 5, then print Buzz.\n",
        "\n",
        "# If a number is divisible by 3 and 5 both, then print FizzBuzz.\n",
        "\n",
        "# If a number is neither divisible by 3 or 5, just print the number.\n",
        "\n",
        "for i in range(1, 101):\n",
        " if(i % 3 == 0 and i % 5 == 0):\n",
        "     print(\"FizzBuzz\")\n",
        " elif (i % 3 == 0):\n",
        "     print(\"Fizz\")\n",
        " elif(i % 5 == 0):\n",
        "     print(\"Buzz\")\n",
        " else:\n",
        "     print(i)"
      ],
      "metadata": {
        "colab": {
          "base_uri": "https://localhost:8080/"
        },
        "id": "H1iXTGPDaq_W",
        "outputId": "4ff346b8-f68d-4e01-8e34-9253750d58c9"
      },
      "execution_count": null,
      "outputs": [
        {
          "output_type": "stream",
          "name": "stdout",
          "text": [
            "1\n",
            "2\n",
            "Fizz\n",
            "4\n",
            "Buzz\n",
            "Fizz\n",
            "7\n",
            "8\n",
            "Fizz\n",
            "Buzz\n",
            "11\n",
            "Fizz\n",
            "13\n",
            "14\n",
            "FizzBuzz\n",
            "16\n",
            "17\n",
            "Fizz\n",
            "19\n",
            "Buzz\n",
            "Fizz\n",
            "22\n",
            "23\n",
            "Fizz\n",
            "Buzz\n",
            "26\n",
            "Fizz\n",
            "28\n",
            "29\n",
            "FizzBuzz\n",
            "31\n",
            "32\n",
            "Fizz\n",
            "34\n",
            "Buzz\n",
            "Fizz\n",
            "37\n",
            "38\n",
            "Fizz\n",
            "Buzz\n",
            "41\n",
            "Fizz\n",
            "43\n",
            "44\n",
            "FizzBuzz\n",
            "46\n",
            "47\n",
            "Fizz\n",
            "49\n",
            "Buzz\n",
            "Fizz\n",
            "52\n",
            "53\n",
            "Fizz\n",
            "Buzz\n",
            "56\n",
            "Fizz\n",
            "58\n",
            "59\n",
            "FizzBuzz\n",
            "61\n",
            "62\n",
            "Fizz\n",
            "64\n",
            "Buzz\n",
            "Fizz\n",
            "67\n",
            "68\n",
            "Fizz\n",
            "Buzz\n",
            "71\n",
            "Fizz\n",
            "73\n",
            "74\n",
            "FizzBuzz\n",
            "76\n",
            "77\n",
            "Fizz\n",
            "79\n",
            "Buzz\n",
            "Fizz\n",
            "82\n",
            "83\n",
            "Fizz\n",
            "Buzz\n",
            "86\n",
            "Fizz\n",
            "88\n",
            "89\n",
            "FizzBuzz\n",
            "91\n",
            "92\n",
            "Fizz\n",
            "94\n",
            "Buzz\n",
            "Fizz\n",
            "97\n",
            "98\n",
            "Fizz\n",
            "Buzz\n"
          ]
        }
      ]
    },
    {
      "cell_type": "code",
      "source": [
        "# Question 6\n",
        "# 1 Mark\n",
        "# Which of the following snippets can be used to complete the code to find the sum of all numbers from 1 to 100:\n",
        "\n",
        "sum = 0\n",
        "for i in range(1, 101):\n",
        " # missing code\n",
        " sum = sum + i\n",
        "print(sum)"
      ],
      "metadata": {
        "colab": {
          "base_uri": "https://localhost:8080/"
        },
        "id": "-clWvvEbbNHa",
        "outputId": "f7ac82cc-9dd9-4f05-a37d-0cf634a81d4b"
      },
      "execution_count": null,
      "outputs": [
        {
          "output_type": "stream",
          "name": "stdout",
          "text": [
            "5050\n"
          ]
        }
      ]
    },
    {
      "cell_type": "code",
      "source": [
        "# Question 7\n",
        "# 1.5 Marks\n",
        "# Choose the appropriate snippet to find all such numbers which are divisible by 7\n",
        "# but are not a multiple of 5, between 202 and 320 (both included):\n",
        "\n",
        "for i in range(202, 321):\n",
        "    if i % 7 == 0 and i % 5 != 0:\n",
        "        print(i)"
      ],
      "metadata": {
        "colab": {
          "base_uri": "https://localhost:8080/"
        },
        "id": "TovHz5Z0bu5W",
        "outputId": "e918bd55-1363-4d81-fc5e-1fcb88d58d32"
      },
      "execution_count": null,
      "outputs": [
        {
          "output_type": "stream",
          "name": "stdout",
          "text": [
            "203\n",
            "217\n",
            "224\n",
            "231\n",
            "238\n",
            "252\n",
            "259\n",
            "266\n",
            "273\n",
            "287\n",
            "294\n",
            "301\n",
            "308\n"
          ]
        }
      ]
    },
    {
      "cell_type": "code",
      "source": [
        "# Question 8\n",
        "# 1 Mark\n",
        "# What will be the output of the following Python code?\n",
        "\n",
        "st = \"Data Science\"\n",
        "count = 0\n",
        "for i in st:\n",
        " if i == \"a\" or i == \"e\" or i == \"i\" or i == \"o\" or i == \"u\":\n",
        "     count = count + 1\n",
        "print(count)"
      ],
      "metadata": {
        "colab": {
          "base_uri": "https://localhost:8080/"
        },
        "id": "Fayvs0-DcG4l",
        "outputId": "5b1a74bb-e871-43ea-d59e-d0f23e096348"
      },
      "execution_count": null,
      "outputs": [
        {
          "output_type": "stream",
          "name": "stdout",
          "text": [
            "5\n"
          ]
        }
      ]
    },
    {
      "cell_type": "code",
      "source": [
        "# Question 9\n",
        "# 1 Mark\n",
        "# What will be the output of the following Python code?\n",
        "\n",
        "a = \"Data Science\"\n",
        "for i in range(0, 5):\n",
        " print(a)"
      ],
      "metadata": {
        "colab": {
          "base_uri": "https://localhost:8080/"
        },
        "id": "BP7xfex8cei_",
        "outputId": "616aab94-d33b-43e8-8d31-852aa6b25e5e"
      },
      "execution_count": null,
      "outputs": [
        {
          "output_type": "stream",
          "name": "stdout",
          "text": [
            "Data Science\n",
            "Data Science\n",
            "Data Science\n",
            "Data Science\n",
            "Data Science\n"
          ]
        }
      ]
    },
    {
      "cell_type": "markdown",
      "source": [
        "#Practice Quiz 1.5 - Functions"
      ],
      "metadata": {
        "id": "7AeVXwc2c8Zl"
      }
    },
    {
      "cell_type": "code",
      "source": [
        "# Question 1\n",
        "# 1 Mark\n",
        "# What will be the output of the following code?\n",
        "\n",
        "def mths(a, b):\n",
        " print(a + b)\n",
        " print(a - b)\n",
        " print(a * b)\n",
        " print(a // b)\n",
        "\n",
        "mths(9, 5)"
      ],
      "metadata": {
        "colab": {
          "base_uri": "https://localhost:8080/"
        },
        "id": "nc6Pywbdc92M",
        "outputId": "049da7ff-443a-4439-b9d4-5229a2253c3a"
      },
      "execution_count": null,
      "outputs": [
        {
          "output_type": "stream",
          "name": "stdout",
          "text": [
            "14\n",
            "4\n",
            "45\n",
            "1.8\n"
          ]
        }
      ]
    },
    {
      "cell_type": "code",
      "source": [
        "# Question 2\n",
        "# 1 Mark\n",
        "# Which of the following user-defined functions prints the square of every number from 1 to 10 (including 1 and 10)?\n",
        "def sq():\n",
        " for i in range(1, 11):\n",
        "     print(i ** 2)\n",
        "sq()"
      ],
      "metadata": {
        "colab": {
          "base_uri": "https://localhost:8080/"
        },
        "id": "ZWMCjOm8eLYj",
        "outputId": "87b15dba-46e2-41c8-8cf2-221b90f9def3"
      },
      "execution_count": null,
      "outputs": [
        {
          "output_type": "stream",
          "name": "stdout",
          "text": [
            "1\n",
            "4\n",
            "9\n",
            "16\n",
            "25\n",
            "36\n",
            "49\n",
            "64\n",
            "81\n",
            "100\n"
          ]
        }
      ]
    },
    {
      "cell_type": "code",
      "source": [
        "# Question 3\n",
        "# 1 Mark\n",
        "# Which of the following code snippets can be used to complete the code for the\n",
        "# user-defined function simple interest that returns the simple interest given ,\n",
        "# principal amount (p), annual rate of interest (r), and the time period in years (t)?\n",
        "\n",
        "# Hint: Simple Interest = (Principal Amount * Annual rate of interest * Time (in years)) / 100\n",
        "\n",
        "def simple_interest(p, r, t):\n",
        " # missing code\n",
        " si = (p * r * t) / 100\n",
        " return si\n",
        "\n",
        "simple_interest(10, 20, 30)"
      ],
      "metadata": {
        "colab": {
          "base_uri": "https://localhost:8080/"
        },
        "id": "9t_tVAirelmI",
        "outputId": "072d79d4-be77-42e1-c95c-29f8c42bd3cb"
      },
      "execution_count": null,
      "outputs": [
        {
          "output_type": "execute_result",
          "data": {
            "text/plain": [
              "60.0"
            ]
          },
          "metadata": {},
          "execution_count": 92
        }
      ]
    },
    {
      "cell_type": "code",
      "source": [
        "# Question 4\n",
        "# 1 Mark\n",
        "# What does the below Python function do?\n",
        "\n",
        "def chk(a):\n",
        " if a % 25 == 0:\n",
        "     return True\n",
        " else:\n",
        "     print(\"Not Divisible\")\n",
        "\n",
        "# chk(a) checks if the number a is divisible by 25\n",
        "\n",
        "chk(2500)"
      ],
      "metadata": {
        "colab": {
          "base_uri": "https://localhost:8080/"
        },
        "id": "wi0_OWQJfguZ",
        "outputId": "c05c92bf-8490-4398-d1e8-03fdcbbe16bd"
      },
      "execution_count": null,
      "outputs": [
        {
          "output_type": "execute_result",
          "data": {
            "text/plain": [
              "True"
            ]
          },
          "metadata": {},
          "execution_count": 98
        }
      ]
    },
    {
      "cell_type": "code",
      "source": [
        "# Question 5\n",
        "# 1 Mark\n",
        "# What will be the output of the following Python code?\n",
        "\n",
        "def num(x):\n",
        " y = x * x\n",
        " z = y + 5\n",
        " return z\n",
        "\n",
        "print(num(5))"
      ],
      "metadata": {
        "colab": {
          "base_uri": "https://localhost:8080/"
        },
        "id": "V7v538Quf5dm",
        "outputId": "cc76063f-8947-408a-fa0d-6ce348e74762"
      },
      "execution_count": null,
      "outputs": [
        {
          "output_type": "stream",
          "name": "stdout",
          "text": [
            "30\n"
          ]
        }
      ]
    },
    {
      "cell_type": "code",
      "source": [
        "# Question 6\n",
        "# 1 Mark\n",
        "# Choose the appropriate code snippet to define a lambda function that performs the following task:\n",
        "\n",
        "# Takes an input, squares it, adds 5, then return the answer\n",
        "\n",
        "function = lambda x: x * x + 5\n",
        "function(x)"
      ],
      "metadata": {
        "colab": {
          "base_uri": "https://localhost:8080/"
        },
        "id": "8sKK1DlFgZge",
        "outputId": "dbeef1b4-8667-4bf0-b215-85b831ec4306"
      },
      "execution_count": null,
      "outputs": [
        {
          "output_type": "execute_result",
          "data": {
            "text/plain": [
              "9"
            ]
          },
          "metadata": {},
          "execution_count": 110
        }
      ]
    },
    {
      "cell_type": "code",
      "source": [
        "# Question 7\n",
        "# 1 Mark\n",
        "# What will be the output of the following Python code?\n",
        "\n",
        "def power(a, b):\n",
        " return a ** b\n",
        "power(7,2)"
      ],
      "metadata": {
        "colab": {
          "base_uri": "https://localhost:8080/"
        },
        "id": "9JkuoOBaiGJN",
        "outputId": "379a4fe5-f151-4232-ff09-e7209e4f4e10"
      },
      "execution_count": null,
      "outputs": [
        {
          "output_type": "execute_result",
          "data": {
            "text/plain": [
              "49"
            ]
          },
          "metadata": {},
          "execution_count": 111
        }
      ]
    },
    {
      "cell_type": "code",
      "source": [
        "# Question 8\n",
        "# 1 Mark\n",
        "# What will be the output of the following function defined to calculate the area of the triangle?\n",
        "\n",
        "def sq(base, height):\n",
        " return 0.5 * base * height\n",
        "sq(5, 10)"
      ],
      "metadata": {
        "colab": {
          "base_uri": "https://localhost:8080/"
        },
        "id": "D_O-OTuhiN1H",
        "outputId": "6f56249c-4a0d-4b2c-8390-933337566ef7"
      },
      "execution_count": null,
      "outputs": [
        {
          "output_type": "execute_result",
          "data": {
            "text/plain": [
              "25.0"
            ]
          },
          "metadata": {},
          "execution_count": 112
        }
      ]
    },
    {
      "cell_type": "code",
      "source": [
        "# Question 9\n",
        "# 1 Mark\n",
        "# What will be the output of the following code?\n",
        "\n",
        "def greet(country):\n",
        " print(\"I am from\", country)\n",
        "greet(\"Sweden\")"
      ],
      "metadata": {
        "colab": {
          "base_uri": "https://localhost:8080/"
        },
        "id": "pToYLQRkicBb",
        "outputId": "e799faa6-91b1-4db3-8f7f-ecbfa6871a47"
      },
      "execution_count": null,
      "outputs": [
        {
          "output_type": "stream",
          "name": "stdout",
          "text": [
            "I am from Sweden\n"
          ]
        }
      ]
    },
    {
      "cell_type": "code",
      "source": [
        "# Question 10\n",
        "# 1 Mark\n",
        "# What will be the output of the following code?\n",
        "\n",
        "def convert(celsius):\n",
        " fah = 1.8 * celsius + 32\n",
        " print(\"Temperature in Fahrenheit =\", fah)\n",
        "convert(20)"
      ],
      "metadata": {
        "colab": {
          "base_uri": "https://localhost:8080/"
        },
        "id": "2pZBHZOniqtq",
        "outputId": "e83af34c-5820-48cf-9325-b958dcdb2087"
      },
      "execution_count": null,
      "outputs": [
        {
          "output_type": "stream",
          "name": "stdout",
          "text": [
            "Temperature in Fahrenheit = 68.0\n"
          ]
        }
      ]
    }
  ]
}