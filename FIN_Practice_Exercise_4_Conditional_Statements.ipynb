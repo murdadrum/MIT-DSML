{
  "cells": [
    {
      "cell_type": "markdown",
      "metadata": {
        "id": "view-in-github",
        "colab_type": "text"
      },
      "source": [
        "<a href=\"https://colab.research.google.com/github/murdadrum/MIT-DSML/blob/main/FIN_Practice_Exercise_4_Conditional_Statements.ipynb\" target=\"_parent\"><img src=\"https://colab.research.google.com/assets/colab-badge.svg\" alt=\"Open In Colab\"/></a>"
      ]
    },
    {
      "cell_type": "markdown",
      "metadata": {
        "id": "ZKiFwhJX3kR_"
      },
      "source": [
        "# **CONDITIONAL STATEMENTS EXERCISE**"
      ]
    },
    {
      "cell_type": "markdown",
      "metadata": {
        "id": "hoGhvqlk3kSB"
      },
      "source": [
        "### 1. Check if a is equal to 10, If yes, print \"Hello\", else print \"Good Bye\"\n",
        "a = 56"
      ]
    },
    {
      "cell_type": "code",
      "execution_count": null,
      "metadata": {
        "colab": {
          "base_uri": "https://localhost:8080/"
        },
        "id": "7FFxfMnc3kSC",
        "outputId": "2dfb6fb6-273d-4898-9c48-b654bace016c"
      },
      "outputs": [
        {
          "output_type": "stream",
          "name": "stdout",
          "text": [
            "Good Bye\n"
          ]
        }
      ],
      "source": [
        "a=56\n",
        "if a==10:\n",
        "  print(\"Hello\")\n",
        "else:\n",
        "  print(\"Good Bye\")"
      ]
    },
    {
      "cell_type": "markdown",
      "metadata": {
        "id": "vrcWNajz3kSC"
      },
      "source": [
        "### 2. Check whether a number is even or odd\n",
        "a = 2020"
      ]
    },
    {
      "cell_type": "code",
      "execution_count": null,
      "metadata": {
        "colab": {
          "base_uri": "https://localhost:8080/"
        },
        "id": "rN5R7EhO3kSD",
        "outputId": "fd61d896-d473-4f2a-884d-440577b68a52"
      },
      "outputs": [
        {
          "output_type": "stream",
          "name": "stdout",
          "text": [
            "even\n"
          ]
        }
      ],
      "source": [
        "a=2020\n",
        "if a%2 == 0:\n",
        "  print('even')\n",
        "else:\n",
        "  print('odd')"
      ]
    },
    {
      "cell_type": "markdown",
      "metadata": {
        "id": "TIQ7aR_p3kSD"
      },
      "source": [
        "### 3.  Check whether the area of the rectangle is greater than the perimeter of the rectangle\n",
        "length = 5\n",
        "breadth = 10\n",
        "\n",
        "Hint: Area of rectangle = length * breadth\n",
        "\n",
        "Hint: Perimeter of rectangle = 2 * (length + breadth)"
      ]
    },
    {
      "cell_type": "code",
      "execution_count": null,
      "metadata": {
        "colab": {
          "base_uri": "https://localhost:8080/"
        },
        "id": "4N6goDGD3kSD",
        "outputId": "1b47cf1b-cef6-4d78-90fd-db72e3757922"
      },
      "outputs": [
        {
          "output_type": "stream",
          "name": "stdout",
          "text": [
            "Area 50 is greater than Perimeter 30\n"
          ]
        }
      ],
      "source": [
        "l=5\n",
        "b=10\n",
        "a=(l*b)\n",
        "p=2*(l+b)\n",
        "if a > p:\n",
        "  print('Area', a, 'is greater than Perimeter', p)\n",
        "else:\n",
        "  print('Perimeter', p, 'is greater than Area', a)"
      ]
    },
    {
      "cell_type": "markdown",
      "metadata": {
        "id": "NuMz13_I3kSD"
      },
      "source": [
        "### 4. Calculate the average marks of a student in 5 subjects and give grades accordingly:\n",
        "If average>90 then Grade = A\n",
        "\n",
        "If average>80 then Grade = B\n",
        "\n",
        "If average>70 then Grade = C\n",
        "\n",
        "If average>60 then Grade = D\n",
        "\n",
        "If average>50 then Grade = E\n",
        "\n",
        "else Fail\n",
        "\n",
        "Marks in subject 1= 72\n",
        "\n",
        "Marks in subject 2= 85\n",
        "\n",
        "Marks in subject 3= 96\n",
        "\n",
        "Marks in subject 4= 42\n",
        "\n",
        "Marks in subject 5= 95"
      ]
    },
    {
      "cell_type": "code",
      "execution_count": null,
      "metadata": {
        "colab": {
          "base_uri": "https://localhost:8080/"
        },
        "id": "2iC7bheC3kSE",
        "outputId": "0dd097e0-846c-40cb-8d1a-8fee65044f1d"
      },
      "outputs": [
        {
          "output_type": "stream",
          "name": "stdout",
          "text": [
            "5 Fails\n"
          ]
        }
      ],
      "source": [
        "Marks=[7, 8, 6, 2, 5]\n",
        "Sum_Marks=sum(Marks)\n",
        "AVG_Mark=int(Sum_Marks/len(Marks))\n",
        "\n",
        "if AVG_Mark>=90:\n",
        "  print(AVG_Mark, 'is Grade A')\n",
        "elif AVG_Mark>=80:\n",
        "  print(AVG_Mark, 'is Grade B')\n",
        "elif AVG_Mark>=70:\n",
        "  print(AVG_Mark, 'is Grade C')\n",
        "elif AVG_Mark>=60:\n",
        "  print(AVG_Mark, 'is Grade D')\n",
        "elif AVG_Mark>=50:\n",
        "  print(AVG_Mark, 'is Grade E')\n",
        "else:\n",
        "  print(AVG_Mark, 'Fails')"
      ]
    },
    {
      "cell_type": "markdown",
      "metadata": {
        "id": "df8pl1j43kSE"
      },
      "source": [
        "###  5. Check if a triangle is equilateral, isosceles or scalene.\n",
        "\n",
        "Hint :\n",
        "1. An equilateral triangle is a triangle in which all three sides are equal.\n",
        "\n",
        "2. A scalene triangle is a triangle that has three unequal sides.\n",
        "\n",
        "3. An isosceles triangle is a triangle with (at least) two equal sides.\n",
        "\n",
        "Dimensions of triangle:\n",
        "\n",
        "side 1 = 6\n",
        "\n",
        "side 2 = 8\n",
        "\n",
        "side 3 = 12"
      ]
    },
    {
      "cell_type": "code",
      "execution_count": null,
      "metadata": {
        "colab": {
          "base_uri": "https://localhost:8080/"
        },
        "id": "1YMfVPik3kSE",
        "outputId": "49a87d66-69c3-486f-bf56-41dd2cc3cb6b"
      },
      "outputs": [
        {
          "output_type": "stream",
          "name": "stdout",
          "text": [
            "Isosceles\n"
          ]
        }
      ],
      "source": [
        "s1=6\n",
        "s2=20\n",
        "s3=6\n",
        "\n",
        "if s1 == s2 == s3:\n",
        "  print('Equilateral')\n",
        "elif s1 == s2 or s1 == s3 or s2 == s3:\n",
        "  print('Isosceles')\n",
        "else:\n",
        "  print('Scalene')"
      ]
    },
    {
      "cell_type": "markdown",
      "metadata": {
        "id": "gpguuIwh3kSE"
      },
      "source": [
        "### 6. Check if the word \"Data\" is present in the sentence \"I am a Data Scientist\". If found print \"It is present\" else print FALSE"
      ]
    },
    {
      "cell_type": "code",
      "execution_count": null,
      "metadata": {
        "colab": {
          "base_uri": "https://localhost:8080/"
        },
        "id": "6NU_TYlD3kSE",
        "outputId": "ca7aaf7f-954a-4795-bdbe-0a102ee6eff7"
      },
      "outputs": [
        {
          "output_type": "stream",
          "name": "stdout",
          "text": [
            "It is present\n"
          ]
        }
      ],
      "source": [
        "sent=(\"I am a Datadog Scientist\")\n",
        "if \"Data\" in sent:\n",
        "  print('It is present')\n",
        "else:\n",
        "  print('False')"
      ]
    },
    {
      "cell_type": "markdown",
      "metadata": {
        "id": "PjFaKGNd3kSF"
      },
      "source": [
        "### 7. Write Python code to check if a number is positive or negative."
      ]
    },
    {
      "cell_type": "code",
      "execution_count": null,
      "metadata": {
        "colab": {
          "base_uri": "https://localhost:8080/"
        },
        "id": "A8CmcKHS3kSF",
        "outputId": "c586cc9a-a526-498b-d244-16dcd0c8c760"
      },
      "outputs": [
        {
          "output_type": "stream",
          "name": "stdout",
          "text": [
            "Pos\n"
          ]
        }
      ],
      "source": [
        "num=0.3\n",
        "if num>0:\n",
        "  print('Pos')\n",
        "elif num<0:\n",
        "  print('Neg')\n",
        "else:\n",
        "  print('num is Zero')"
      ]
    },
    {
      "cell_type": "markdown",
      "metadata": {
        "id": "D-WwYgCr3kSF"
      },
      "source": [
        "### 8. x = 20 and y = 30. Write a Python code to check if x is less than y."
      ]
    },
    {
      "cell_type": "code",
      "execution_count": null,
      "metadata": {
        "colab": {
          "base_uri": "https://localhost:8080/"
        },
        "id": "IRBpmpHR3kSF",
        "outputId": "d4214fba-b778-460d-8124-fad0091e7766"
      },
      "outputs": [
        {
          "output_type": "stream",
          "name": "stdout",
          "text": [
            "x is less than y\n"
          ]
        }
      ],
      "source": [
        "x=-5\n",
        "y=19\n",
        "if (x + y) > (x * 2):\n",
        "  print('x is less than y')\n",
        "elif (x + y) == (x*2):\n",
        "  print('x equals y')\n",
        "else:\n",
        "  print('x is greater than y')"
      ]
    },
    {
      "cell_type": "markdown",
      "metadata": {
        "id": "nhGBCK143kSF"
      },
      "source": [
        "### 9. Based on the users age, divide them into three groups\n",
        "    Group 1 : Age <18 , Minors who are not eligible to work\n",
        "    Group 2 : 18 < Age < 60 , Eligible to work\n",
        "    Group 3 : Age > 60, Too old to work as per govt. regulations.\n",
        "\n",
        "### Write a Python code for the same"
      ]
    },
    {
      "cell_type": "code",
      "execution_count": null,
      "metadata": {
        "colab": {
          "base_uri": "https://localhost:8080/"
        },
        "id": "3W9jPYXM3kSF",
        "outputId": "3e429505-845d-4e20-e070-a2cefb36bf80"
      },
      "outputs": [
        {
          "output_type": "stream",
          "name": "stdout",
          "text": [
            "Senior\n"
          ]
        }
      ],
      "source": [
        "age=1000\n",
        "\n",
        "if age<18:\n",
        "  print('Minor')\n",
        "elif age<60:\n",
        "  print('Adult')\n",
        "else:\n",
        "  print('Senior')"
      ]
    },
    {
      "cell_type": "markdown",
      "metadata": {
        "id": "ugpNMe0h3kSF"
      },
      "source": [
        "### 10. From the age of 3 people determine the oldest person among them.\n",
        "Age of first person = 25\n",
        "\n",
        "Age of second person = 34\n",
        "\n",
        "Age of third person = 45"
      ]
    },
    {
      "cell_type": "code",
      "execution_count": null,
      "metadata": {
        "colab": {
          "base_uri": "https://localhost:8080/"
        },
        "id": "zaYA0SQ63kSF",
        "outputId": "56d73357-953f-4b9a-c6f8-822a0a870b7a"
      },
      "outputs": [
        {
          "output_type": "stream",
          "name": "stdout",
          "text": [
            "there is a tie for oldest\n"
          ]
        }
      ],
      "source": [
        "p1=50\n",
        "p2=20\n",
        "p3=50\n",
        "# oldest\n",
        "\n",
        "if p1>p2 and p1>p3:\n",
        "  print('p1 oldest')\n",
        "elif p2>p1 and p2>p3:\n",
        "  print('ps oldest')\n",
        "elif p3>p1 and p3>p2:\n",
        "  print('p3 oldest')\n",
        "else:\n",
        "  print(\"there is a tie for oldest\")"
      ]
    }
  ],
  "metadata": {
    "kernelspec": {
      "display_name": "Python 3 (ipykernel)",
      "language": "python",
      "name": "python3"
    },
    "language_info": {
      "codemirror_mode": {
        "name": "ipython",
        "version": 3
      },
      "file_extension": ".py",
      "mimetype": "text/x-python",
      "name": "python",
      "nbconvert_exporter": "python",
      "pygments_lexer": "ipython3",
      "version": "3.9.7"
    },
    "colab": {
      "provenance": [],
      "include_colab_link": true
    }
  },
  "nbformat": 4,
  "nbformat_minor": 0
}