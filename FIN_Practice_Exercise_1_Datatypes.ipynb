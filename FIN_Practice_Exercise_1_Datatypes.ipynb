{
  "cells": [
    {
      "cell_type": "markdown",
      "metadata": {
        "id": "view-in-github",
        "colab_type": "text"
      },
      "source": [
        "<a href=\"https://colab.research.google.com/github/murdadrum/MIT-DSML/blob/main/FIN_Practice_Exercise_1_Datatypes.ipynb\" target=\"_parent\"><img src=\"https://colab.research.google.com/assets/colab-badge.svg\" alt=\"Open In Colab\"/></a>"
      ]
    },
    {
      "cell_type": "markdown",
      "metadata": {
        "id": "3o93oZs0leCj"
      },
      "source": [
        "# **Data Types in Python**\n",
        "\n",
        "This notebook is aimed at shedding some light on the different data types in Python. This shall form a strong foundation for your programming and Data Science journey."
      ]
    },
    {
      "cell_type": "markdown",
      "metadata": {
        "id": "J0dr8HVgleCl"
      },
      "source": [
        "Data belongs to different categories. It can be numeric, text, true/false, complex numbers, date, time etc. Data should be stored correctly for us to be able to do the desired operations on the data. If the data is stored incorrectly, for example numerical data is stored as text data, we can not do numerical or arithmetic operations on the data because the methods and the operations for a data depend largely on the type of data (object) being referred to."
      ]
    },
    {
      "cell_type": "markdown",
      "metadata": {
        "id": "jYoIVfo-leCm"
      },
      "source": [
        "There are various data types in Python. Listed below are the most prominently used ones:\n",
        "1. Numeric - This is further divided into\n",
        "    (a.) Integer\n",
        "    (b.) Float\n",
        "    (c.) Complex\n",
        "    \n",
        "2. String\n",
        "\n",
        "3. Boolean"
      ]
    },
    {
      "cell_type": "markdown",
      "metadata": {
        "id": "UO0cEmjCleCn"
      },
      "source": [
        "## **Numeric Data Type**"
      ]
    },
    {
      "cell_type": "markdown",
      "metadata": {
        "id": "8C1PQRPOleCn"
      },
      "source": [
        "As the name suggests, Numeric data type consists of numbers. These numbers can be whole numbers, decimal numbers or complex numbers.\n",
        "\n",
        "Whole numbers are stored in Integer (Int) type.\n",
        "\n",
        "Decimal numbers are stored in Float (Float64) type.\n",
        "\n",
        "Complex numbers are stored in Complex type.\n",
        "\n",
        "You will find Integer and Float type being used most of the times."
      ]
    },
    {
      "cell_type": "markdown",
      "metadata": {
        "id": "wWHnVTA4leCn"
      },
      "source": [
        "You can check the data type of an object using the type() command."
      ]
    },
    {
      "cell_type": "code",
      "execution_count": null,
      "metadata": {
        "colab": {
          "base_uri": "https://localhost:8080/"
        },
        "id": "QSZCOHPVleCn",
        "outputId": "9702fa3b-08c6-43f1-a3e9-3432b6f2f33d"
      },
      "outputs": [
        {
          "output_type": "execute_result",
          "data": {
            "text/plain": [
              "int"
            ]
          },
          "metadata": {},
          "execution_count": 1
        }
      ],
      "source": [
        "# Let's look at some examples.\n",
        "\n",
        "Integer = 7\n",
        "type(Integer)"
      ]
    },
    {
      "cell_type": "code",
      "execution_count": null,
      "metadata": {
        "colab": {
          "base_uri": "https://localhost:8080/"
        },
        "id": "tvKS0MM-leCp",
        "outputId": "a2af03c8-f5bd-4c41-f012-7cd7a3e82e95"
      },
      "outputs": [
        {
          "output_type": "execute_result",
          "data": {
            "text/plain": [
              "float"
            ]
          },
          "metadata": {},
          "execution_count": 2
        }
      ],
      "source": [
        "Float = 2.356\n",
        "type(Float)"
      ]
    },
    {
      "cell_type": "code",
      "execution_count": null,
      "metadata": {
        "colab": {
          "base_uri": "https://localhost:8080/"
        },
        "id": "v_gjw6jfleCp",
        "outputId": "08cc4e57-98d3-40bc-d71e-18743e0b941d"
      },
      "outputs": [
        {
          "output_type": "execute_result",
          "data": {
            "text/plain": [
              "complex"
            ]
          },
          "metadata": {},
          "execution_count": 3
        }
      ],
      "source": [
        "Complex = 3.908J\n",
        "type(Complex)"
      ]
    },
    {
      "cell_type": "code",
      "execution_count": null,
      "metadata": {
        "colab": {
          "base_uri": "https://localhost:8080/"
        },
        "id": "UgwT2Q3aleCp",
        "outputId": "df710f0c-951b-4379-b985-63073de42e14"
      },
      "outputs": [
        {
          "output_type": "execute_result",
          "data": {
            "text/plain": [
              "float"
            ]
          },
          "metadata": {},
          "execution_count": 9
        }
      ],
      "source": [
        "# Your turn now.\n",
        "# Store 2, 1086M, 3.14567 into three different objects and check their data types.\n",
        "number = 2\n",
        "Complex = \"1086M\"\n",
        "pi = 3.14567\n",
        "# type(number)\n",
        "# type(Complex)\n",
        "type(pi)\n"
      ]
    },
    {
      "cell_type": "markdown",
      "metadata": {
        "id": "JtwrCqJ9leCp"
      },
      "source": [
        "## **String Data Type**"
      ]
    },
    {
      "cell_type": "markdown",
      "metadata": {
        "id": "VZDoo_acleCq"
      },
      "source": [
        "String Data type usually is used to store text. The data to be stored in this data type is enclosed between single ('') or double (\"\") quotes.\n",
        "Recall that you printed your name in the previous Notebook. That was string data type.\n",
        "Let's look at an example."
      ]
    },
    {
      "cell_type": "code",
      "execution_count": null,
      "metadata": {
        "id": "DHFQIZNMleCq",
        "outputId": "6850c0ce-3de4-4c7c-bddd-15057be19c38"
      },
      "outputs": [
        {
          "data": {
            "text/plain": [
              "'My name is Jupyter!'"
            ]
          },
          "execution_count": 5,
          "metadata": {},
          "output_type": "execute_result"
        }
      ],
      "source": [
        "# Printing your name\n",
        "My_Name = \"My name is Jupyter!\"\n",
        "My_Name"
      ]
    },
    {
      "cell_type": "code",
      "execution_count": null,
      "metadata": {
        "id": "4jw4ftoCleCq",
        "outputId": "c2e49a99-d102-453f-ad8a-985a488d354e"
      },
      "outputs": [
        {
          "data": {
            "text/plain": [
              "str"
            ]
          },
          "execution_count": 6,
          "metadata": {},
          "output_type": "execute_result"
        }
      ],
      "source": [
        "type(My_Name)"
      ]
    },
    {
      "cell_type": "code",
      "execution_count": null,
      "metadata": {
        "colab": {
          "base_uri": "https://localhost:8080/"
        },
        "id": "X3vwwmOLleCq",
        "outputId": "91cf2082-1882-4fde-9964-964ea0a809b1"
      },
      "outputs": [
        {
          "output_type": "execute_result",
          "data": {
            "text/plain": [
              "str"
            ]
          },
          "metadata": {},
          "execution_count": 7
        }
      ],
      "source": [
        "# Your turn to play around now.\n",
        "# Save your name to an object and check its data type.\n",
        "My_Name = \"Josh\"\n",
        "type(My_Name)"
      ]
    },
    {
      "cell_type": "markdown",
      "metadata": {
        "id": "w0B7OA4FleCr"
      },
      "source": [
        "Various functions can be performed using strings like searching within a string, conversion to lowercase/uppercase, count, length, splitting, replacing, trimming, partitioning etc."
      ]
    },
    {
      "cell_type": "code",
      "execution_count": null,
      "metadata": {
        "colab": {
          "base_uri": "https://localhost:8080/"
        },
        "id": "s3OTzmVhleCr",
        "outputId": "273906ae-5a01-41d0-f56d-79f4e55ab6b2"
      },
      "outputs": [
        {
          "output_type": "execute_result",
          "data": {
            "text/plain": [
              "4"
            ]
          },
          "metadata": {},
          "execution_count": 8
        }
      ],
      "source": [
        "# Let's check how many characters does your name contain.\n",
        "len(My_Name)"
      ]
    },
    {
      "cell_type": "code",
      "execution_count": null,
      "metadata": {
        "colab": {
          "base_uri": "https://localhost:8080/"
        },
        "id": "LnOoALy1leCr",
        "outputId": "4af798b2-0777-4d58-83f1-25f8e3741f37"
      },
      "outputs": [
        {
          "output_type": "execute_result",
          "data": {
            "text/plain": [
              "False"
            ]
          },
          "metadata": {},
          "execution_count": 9
        }
      ],
      "source": [
        "# Let's see if My_Name is all caps or not.\n",
        "# isupper() returns True if all the letters are capitals, False if atleast one letter in in lower case.\n",
        "\n",
        "My_Name.isupper()"
      ]
    },
    {
      "cell_type": "code",
      "execution_count": null,
      "metadata": {
        "colab": {
          "base_uri": "https://localhost:8080/",
          "height": 35
        },
        "id": "LAYGDZcxleCr",
        "outputId": "43bf9ffb-4b57-4242-f35e-f485794c5a40"
      },
      "outputs": [
        {
          "output_type": "execute_result",
          "data": {
            "text/plain": [
              "'JOSH'"
            ],
            "application/vnd.google.colaboratory.intrinsic+json": {
              "type": "string"
            }
          },
          "metadata": {},
          "execution_count": 10
        }
      ],
      "source": [
        "# Let's convert My_Name to all caps.\n",
        "\n",
        "My_Name = My_Name.upper()\n",
        "My_Name"
      ]
    },
    {
      "cell_type": "code",
      "execution_count": null,
      "metadata": {
        "colab": {
          "base_uri": "https://localhost:8080/"
        },
        "id": "GQOgT-sZleCs",
        "outputId": "15570c47-6373-427d-b3dd-f6e9ef4be845"
      },
      "outputs": [
        {
          "output_type": "execute_result",
          "data": {
            "text/plain": [
              "True"
            ]
          },
          "metadata": {},
          "execution_count": 11
        }
      ],
      "source": [
        "# Now the output of isupper() changes to True.\n",
        "My_Name.isupper()"
      ]
    },
    {
      "cell_type": "code",
      "execution_count": null,
      "metadata": {
        "id": "fQhdMPyeleCs"
      },
      "outputs": [],
      "source": [
        "# Your turn to try it now.\n",
        "# Write a sentence and store it into an object.\n",
        "sentence = \"Just breathe.\"\n"
      ]
    },
    {
      "cell_type": "code",
      "execution_count": null,
      "metadata": {
        "colab": {
          "base_uri": "https://localhost:8080/"
        },
        "id": "vqHp5mHxleCs",
        "outputId": "5966b28a-78bb-4fb2-84e1-865e105de0db"
      },
      "outputs": [
        {
          "output_type": "execute_result",
          "data": {
            "text/plain": [
              "str"
            ]
          },
          "metadata": {},
          "execution_count": 13
        }
      ],
      "source": [
        "# Check the data type of the object you just created.\n",
        "type(sentence)\n"
      ]
    },
    {
      "cell_type": "code",
      "execution_count": null,
      "metadata": {
        "colab": {
          "base_uri": "https://localhost:8080/"
        },
        "id": "gWV_LPUbleCs",
        "outputId": "58b39373-807d-49fe-908e-40b9c2e3ab9b"
      },
      "outputs": [
        {
          "output_type": "execute_result",
          "data": {
            "text/plain": [
              "False"
            ]
          },
          "metadata": {},
          "execution_count": 14
        }
      ],
      "source": [
        "# Check if it is all caps or not.\n",
        "sentence.isupper()\n"
      ]
    },
    {
      "cell_type": "code",
      "execution_count": null,
      "metadata": {
        "colab": {
          "base_uri": "https://localhost:8080/"
        },
        "id": "VpwbTtEVleCs",
        "outputId": "7572b880-f63b-4624-f089-9719cacb3739"
      },
      "outputs": [
        {
          "output_type": "execute_result",
          "data": {
            "text/plain": [
              "False"
            ]
          },
          "metadata": {},
          "execution_count": 15
        }
      ],
      "source": [
        "# Challenge - Check if it is all lower case or not.\n",
        "\n",
        "sentence.islower()"
      ]
    },
    {
      "cell_type": "code",
      "execution_count": null,
      "metadata": {
        "colab": {
          "base_uri": "https://localhost:8080/",
          "height": 35
        },
        "id": "lGVqF00VleCt",
        "outputId": "4dd210ab-a735-422a-f897-853d4a795402"
      },
      "outputs": [
        {
          "output_type": "execute_result",
          "data": {
            "text/plain": [
              "'JUST BREATHE.'"
            ],
            "application/vnd.google.colaboratory.intrinsic+json": {
              "type": "string"
            }
          },
          "metadata": {},
          "execution_count": 16
        }
      ],
      "source": [
        "# Convert your object into all caps.\n",
        "\n",
        "sentence.upper()"
      ]
    },
    {
      "cell_type": "code",
      "execution_count": null,
      "metadata": {
        "colab": {
          "base_uri": "https://localhost:8080/",
          "height": 35
        },
        "id": "CC7jKXZtleCt",
        "outputId": "8dee4970-1bb0-4a78-ecbd-22c48ad26c0d"
      },
      "outputs": [
        {
          "output_type": "execute_result",
          "data": {
            "text/plain": [
              "'just breathe.'"
            ],
            "application/vnd.google.colaboratory.intrinsic+json": {
              "type": "string"
            }
          },
          "metadata": {},
          "execution_count": 17
        }
      ],
      "source": [
        "# Challenge - Convert your object into all lower case.\n",
        "sentence.lower()"
      ]
    },
    {
      "cell_type": "markdown",
      "metadata": {
        "id": "tPsbL_B7leCt"
      },
      "source": [
        "## **Boolean Data Type**"
      ]
    },
    {
      "cell_type": "markdown",
      "metadata": {
        "id": "1dm66tZoleCt"
      },
      "source": [
        "The boolean data type has just two values, i.e., True or False."
      ]
    },
    {
      "cell_type": "code",
      "execution_count": null,
      "metadata": {
        "id": "l91dnT5ileCt"
      },
      "outputs": [],
      "source": [
        "# Let's look at examples.\n",
        "\n",
        "x = True\n",
        "y = False"
      ]
    },
    {
      "cell_type": "code",
      "execution_count": null,
      "metadata": {
        "colab": {
          "base_uri": "https://localhost:8080/"
        },
        "id": "8N0KlFwbleCt",
        "outputId": "68a420c8-8d17-4576-ac5e-936f7ce82d71"
      },
      "outputs": [
        {
          "output_type": "execute_result",
          "data": {
            "text/plain": [
              "bool"
            ]
          },
          "metadata": {},
          "execution_count": 25
        }
      ],
      "source": [
        "type(x)"
      ]
    },
    {
      "cell_type": "code",
      "execution_count": null,
      "metadata": {
        "colab": {
          "base_uri": "https://localhost:8080/"
        },
        "id": "ziKLycLUleCu",
        "outputId": "eae9586b-46ea-4769-efaf-780803913d0f"
      },
      "outputs": [
        {
          "output_type": "execute_result",
          "data": {
            "text/plain": [
              "bool"
            ]
          },
          "metadata": {},
          "execution_count": 26
        }
      ],
      "source": [
        "type(y)"
      ]
    },
    {
      "cell_type": "code",
      "execution_count": null,
      "metadata": {
        "colab": {
          "base_uri": "https://localhost:8080/"
        },
        "id": "Mcr_PrM1leCu",
        "outputId": "dc11f10a-5dce-4fdc-b95e-fccb0a2ad199"
      },
      "outputs": [
        {
          "output_type": "stream",
          "name": "stdout",
          "text": [
            "x is True\n",
            "y is False\n"
          ]
        }
      ],
      "source": [
        "# Your turn!\n",
        "temp = x\n",
        "x = y\n",
        "y = temp\n",
        "print('x is', x)\n",
        "print('y is', y)"
      ]
    },
    {
      "cell_type": "markdown",
      "metadata": {
        "id": "HJNB9oL6leCu"
      },
      "source": [
        "## **Data Type Conversions**"
      ]
    },
    {
      "cell_type": "markdown",
      "metadata": {
        "id": "MRWkzOjcleCu"
      },
      "source": [
        "As explained earlier, data should be stored in correct form so that it can be manipulated efficiently later.\n",
        "Quite a lot of times, data is not stored correctly or it gets imported incorrectly.\n",
        "In such cases, data needs to be converted to its correct type so that it can be optimally used in our analysis.\n",
        "Thus, let's look at data type conversion exercises to get you comfortable with the process."
      ]
    },
    {
      "cell_type": "code",
      "execution_count": null,
      "metadata": {
        "id": "Q7hVjzaTleCu"
      },
      "outputs": [],
      "source": [
        "# Consider an object containing an integer.\n",
        "string1 = 1"
      ]
    },
    {
      "cell_type": "code",
      "execution_count": null,
      "metadata": {
        "id": "JGdfvC2hleCu",
        "outputId": "10d244b7-0dc8-4d81-9ccd-787b862123ef"
      },
      "outputs": [
        {
          "data": {
            "text/plain": [
              "int"
            ]
          },
          "execution_count": 38,
          "metadata": {},
          "output_type": "execute_result"
        }
      ],
      "source": [
        "type(string1)"
      ]
    },
    {
      "cell_type": "code",
      "execution_count": null,
      "metadata": {
        "id": "1fTuk30UleCv"
      },
      "outputs": [],
      "source": [
        "# I want to use the value 1 as a text value. So let's convert it.\n",
        "string1 = str(string1)"
      ]
    },
    {
      "cell_type": "code",
      "execution_count": null,
      "metadata": {
        "id": "7-orZYtjleCv",
        "outputId": "f33c7bec-8382-4902-81f5-6d001f1d404f"
      },
      "outputs": [
        {
          "data": {
            "text/plain": [
              "str"
            ]
          },
          "execution_count": 45,
          "metadata": {},
          "output_type": "execute_result"
        }
      ],
      "source": [
        "type(string1)"
      ]
    },
    {
      "cell_type": "code",
      "execution_count": null,
      "metadata": {
        "colab": {
          "base_uri": "https://localhost:8080/"
        },
        "id": "qEe4SSiqleCv",
        "outputId": "6ecbc858-2163-47ef-8641-2d8c5a4384a8"
      },
      "outputs": [
        {
          "output_type": "execute_result",
          "data": {
            "text/plain": [
              "str"
            ]
          },
          "metadata": {},
          "execution_count": 34
        }
      ],
      "source": [
        "# Exercise for you. Store the number 123456 as string.\n",
        "num = 123456\n",
        "# type(num)\n",
        "\n",
        "num = str(num)\n",
        "type(num)\n",
        "# print(num)\n",
        "\n"
      ]
    },
    {
      "cell_type": "code",
      "execution_count": null,
      "metadata": {
        "id": "f61MVqWOleC0"
      },
      "outputs": [],
      "source": [
        "# Let's do the opposite now. Let's learn to convert string to float now."
      ]
    },
    {
      "cell_type": "code",
      "execution_count": null,
      "metadata": {
        "colab": {
          "base_uri": "https://localhost:8080/"
        },
        "id": "RofTng7tleC0",
        "outputId": "f1f1b8bc-8204-4010-d42a-9175c3832409"
      },
      "outputs": [
        {
          "output_type": "execute_result",
          "data": {
            "text/plain": [
              "str"
            ]
          },
          "metadata": {},
          "execution_count": 36
        }
      ],
      "source": [
        "int1 = \"500\"\n",
        "type(int1)"
      ]
    },
    {
      "cell_type": "code",
      "execution_count": null,
      "metadata": {
        "colab": {
          "base_uri": "https://localhost:8080/"
        },
        "id": "MEEjZ4xpleC0",
        "outputId": "b5c3c2c7-976f-497f-e48d-cb3a451509b8"
      },
      "outputs": [
        {
          "output_type": "execute_result",
          "data": {
            "text/plain": [
              "int"
            ]
          },
          "metadata": {},
          "execution_count": 37
        }
      ],
      "source": [
        "int1 = int(int1)\n",
        "type(int1)"
      ]
    },
    {
      "cell_type": "code",
      "execution_count": null,
      "metadata": {
        "colab": {
          "base_uri": "https://localhost:8080/"
        },
        "id": "QnQ6LGSNleC0",
        "outputId": "de20cfb2-2296-4316-d637-697ecc16c9f5"
      },
      "outputs": [
        {
          "output_type": "execute_result",
          "data": {
            "text/plain": [
              "float"
            ]
          },
          "metadata": {},
          "execution_count": 39
        }
      ],
      "source": [
        "# Your turn now.\n",
        "int1 = float(int1)\n",
        "type(int1)\n"
      ]
    },
    {
      "cell_type": "markdown",
      "metadata": {
        "id": "zjEpJ6BTleC0"
      },
      "source": [
        "Good job so far!\n",
        "You can also try converting strings to boolean and vice versa.\n",
        "You could also try conversions from integers to float and float to integer.\n",
        "\n",
        "Python is an intuitive language, so by default it stores data into correct formats.\n",
        "But very often we come across data being stored incorrectly especially while importing."
      ]
    }
  ],
  "metadata": {
    "kernelspec": {
      "display_name": "Python 3 (ipykernel)",
      "language": "python",
      "name": "python3"
    },
    "language_info": {
      "codemirror_mode": {
        "name": "ipython",
        "version": 3
      },
      "file_extension": ".py",
      "mimetype": "text/x-python",
      "name": "python",
      "nbconvert_exporter": "python",
      "pygments_lexer": "ipython3",
      "version": "3.9.7"
    },
    "colab": {
      "provenance": [],
      "collapsed_sections": [
        "UO0cEmjCleCn",
        "JtwrCqJ9leCp",
        "tPsbL_B7leCt",
        "HJNB9oL6leCu"
      ],
      "include_colab_link": true
    }
  },
  "nbformat": 4,
  "nbformat_minor": 0
}